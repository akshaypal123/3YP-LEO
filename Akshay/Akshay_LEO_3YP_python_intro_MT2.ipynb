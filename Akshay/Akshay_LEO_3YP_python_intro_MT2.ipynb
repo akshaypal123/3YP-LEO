{
 "cells": [
  {
   "cell_type": "markdown",
   "metadata": {
    "id": "XqOQtIkIOIeg"
   },
   "source": [
    "# LEO 3YP - Intro to Python\n",
    "## 3YP MT2 - 02.11.2020\n",
    "\n",
    "<img src=\"https://cdn.dribbble.com/users/737433/screenshots/5375931/untitled_00.gif\" width=\"450\" height=\"350\" align=\"left\"/>\n",
    "\n",
    "&nbsp;\n",
    "\n",
    "<div style=\"background-color:rgba(0, 0, 0, 0); text-align:left; vertical-align: middle; padding:40px 100px 100px 500px;\">\n",
    "\n",
    "This tutorial will provide you with the most basic introduction to python for scientific computing.\n",
    "\n",
    "For this tutorial, you will require the following packages:  \n",
    "\n",
    "- Numpy\n",
    "- Pandas\n",
    "- Matplotlib\n",
    "- jupyter-notebook\n",
    "\n",
    "&nbsp;\n",
    "\n",
    "We'll work through the tutorial in jupyter-notebook. Jupyter-notebook is a web-based ide which allows you to work in documents which contain 'live code'. It's a great platform for basic code development, exploritory data analysis and hopefully...tutorials. \n",
    "\n",
    "&nbsp;\n",
    "\n",
    "</div>"
   ]
  },
  {
   "cell_type": "markdown",
   "metadata": {
    "id": "ug6tQxBjPA59"
   },
   "source": [
    "## Setup"
   ]
  },
  {
   "cell_type": "markdown",
   "metadata": {
    "id": "e2Ak_YE_RPQq"
   },
   "source": [
    "### Anaconda Navigator\n"
   ]
  },
  {
   "cell_type": "markdown",
   "metadata": {
    "id": "Mzo-XKlqge3C"
   },
   "source": [
    "Anaconda is a package manager, environment manager, and python distribution.\n",
    "\n",
    "It is free, easy to install, and platform agnostic.\n",
    "\n",
    "It was designed for scientific computing and data science.\n",
    "\n",
    "Conda is the package, environment and channel manager which anaconda is built on. Conda can be accessed directly from the command line. On Linux and MacOS, open the terminal. On windows, open Anaconda Prompt from the Start Menu.\n",
    "\n",
    "Anaconda Navigator is a desktop graphical user interface (GUI) included with the Anaconda Distribution which allows you to launch applications and easily manage conda without using the command line.\n",
    "\n",
    "<img src=\"https://miro.medium.com/max/2560/1*DKPXg47mW43hCYyRcu5TNw.jpeg\" width=\"650\" height=\"400\" align=\"center\"/>\n",
    "\n",
    "&nbsp;\n",
    "\n",
    "[Anaconda Navigator documentation](https://docs.anaconda.com/anaconda/navigator/)\n",
    "\n",
    "[Conda documentation](https://docs.conda.io/projects/conda/en/latest/)"
   ]
  },
  {
   "cell_type": "markdown",
   "metadata": {
    "id": "43rsaCzrU02S"
   },
   "source": [
    "### Environments"
   ]
  },
  {
   "cell_type": "markdown",
   "metadata": {
    "id": "PUf7SVKZgkqE"
   },
   "source": [
    "A [conda environment](https://docs.conda.io/projects/conda/en/latest/user-guide/getting-started.html#managing-environments) is an isolated directory that contains a specific collection of conda packages (python libraries). \n",
    "\n",
    "Environments allow you to have different versions of libraries (inc. python versions e.g. python 2.7 or python 3.7). This can be important if code requires specific legacy versions of libraries. \n",
    "\n",
    "Changes made wihin an environment do not affect other environments. Using environments is a good way to protect working directories if testing something new. Particularly the base (root) directory.\n",
    "\n",
    "You can also send environments to others, and recover previous versions. \n",
    "\n",
    "&nbsp;\n",
    "\n",
    "<img src=\"https://bitbucket.org/scotwheeler/leo_3yp_2020/raw/c6ebb8b15d766b366de196142c831d66d7f267e7/imgs/anaconda_env.png\" height=\"250\" align=\"right\"/>\n",
    "\n",
    "Let's create a new environment for 3YP:\n",
    "\n",
    "**In Anaconda Navigator:**\n",
    "\n",
    "1.   Click the 'Environments' tab \n",
    "2.   Click 'Create'\n",
    "3.   Enter a name (e.g. LEO3YP2020)\n",
    "4.   Select the python version (recommend 3.7)\n",
    "5.   Create\n",
    "\n",
    "&nbsp;\n",
    "\n",
    "**Command line:**\n",
    "\n",
    "On Linux and MacOS, open the terminal. On windows, open Anaconda Prompt from the Start Menu.\n",
    "\n",
    "```\n",
    "conda create --name LEO3YP2020 python=3.7\n",
    "```\n",
    "\n"
   ]
  },
  {
   "cell_type": "markdown",
   "metadata": {
    "id": "w28ETXJsVCRB"
   },
   "source": [
    "### Modules, Packages and Libraries"
   ]
  },
  {
   "cell_type": "markdown",
   "metadata": {
    "id": "FaSwIWfrPWDS"
   },
   "source": [
    "Python's way of being 'lazy but smart'\n",
    "\n",
    "**Module** is a file which contains various Python functions and global variables. It is simply just .py extension file which has python executable code.\n",
    "\n",
    "**Package** is a simple directory structure having a collection of modules. It must contains an \\__init__\\.py file as a flag so that the python interpreter processes it as such.\n",
    "\n",
    "**Library** is a collection of packages or code for distribution which provides the functionality to perform many (often related) tasks without writing your own code."
   ]
  },
  {
   "cell_type": "markdown",
   "metadata": {
    "id": "xurmlssCE4Ea"
   },
   "source": [
    "Let's install some common libraries in our new environment.\n",
    "\n",
    "<img src=\"https://bitbucket.org/scotwheeler/leo_3yp_2020/raw/e61094bb2fcebf68d681f750d21ea4ee0b3a7306/imgs/navigator_lib_install.png\" height=\"250\" align=\"right\"/>\n",
    "\n",
    "**In Navigator:**\n",
    "\n",
    "1.   Click the 'Environments' tab \n",
    "2.   Select your new environment\n",
    "3.   Select the 'Not installed' drop down option\n",
    "4.   Search for a library (e.g. numpy)\n",
    "5.   Select the tickbox\n",
    "6.   Click apply\n",
    "\n",
    "&nbsp;\n",
    "\n",
    "\n",
    "\n",
    "**Command line:**\n",
    "\n",
    "1.   Swtich to your new environment\n",
    "```\n",
    "$ conda activate LEO3YP2020\n",
    "```\n",
    "\n",
    "2. Install as many libraries as possible at once, this helps to avoid incorrect dependencies.\n",
    "```\n",
    "$ conda install numpy scipy matplotlib spyder jupyter pandas\n",
    "```\n",
    "\n",
    "You'll notice in both cases, more than just those 6 libraries will be installed, this is because each library was built upon and depends upon other libraries.\n"
   ]
  },
  {
   "cell_type": "markdown",
   "metadata": {
    "id": "28vd1xKxVPwY"
   },
   "source": [
    "### Basic scientific libraries"
   ]
  },
  {
   "cell_type": "markdown",
   "metadata": {
    "id": "owluIlHrHT-Z"
   },
   "source": [
    "So what did we just install:\n",
    "\n",
    "The NumPy or SciPy Stack:\n",
    "- **NumPy**: numerical computing in python on large, multi-dimentional arrays and matrices. Functionality comparable to MATLAB.\n",
    "- **pandas**: data manipulation and analysis\n",
    "- **Matplotlib**: visulization toolkit. Pyplot is a matplotlib module which provides a MATLAB-like interface.\n",
    "- **SciPy**: scientific computing and technical computing. Contains modules for optimization, linear algrbra, signal processing etc. \n",
    "\n",
    "IDEs:\n",
    "- **jupyter**: an interactive web based computational notebook. Provides environment for live code, graphical outputs, and narrative text. Great for code development and exploritory data analysis.\n",
    "- **spyder**: a python IDE with advanced script editing, interactive output and testing, and debugging."
   ]
  },
  {
   "cell_type": "markdown",
   "metadata": {
    "id": "jB1E3GmdVVAj"
   },
   "source": [
    "### Let's get coding"
   ]
  },
  {
   "cell_type": "markdown",
   "metadata": {
    "id": "WYvhZkTQRTLt"
   },
   "source": [
    "To launch jupyter-notebook:\n",
    "\n",
    "In Navigator:\n",
    "1.   Select the Home tab\n",
    "2.   Select the correct environment from the dropdown list\n",
    "3.   Click 'Launch' on the Jupyter Notebook app\n",
    "\n",
    "Command line:\n",
    "1.   Activate the correct environment\n",
    "```\n",
    "$ conda activate LEO3YP2020\n",
    "```\n",
    "2.   Launch jupyter-notebook\n",
    "```\n",
    "$ jupyter-notebook\n",
    "```"
   ]
  },
  {
   "cell_type": "markdown",
   "metadata": {
    "id": "ydAQK0tCZMp1"
   },
   "source": [
    "### A note on style...\n",
    "\n",
    "Try to follow the accepted standard for python code style. This is documented in [PEP 8](https://www.python.org/dev/peps/pep-0008/).\n",
    "\n",
    "Docstrings and comments are particularly important for collaborating on code. It ensures others know what your code does, and why you needed to do it in that way. It will also form the basis of any documentation. Start this from day 1."
   ]
  },
  {
   "cell_type": "markdown",
   "metadata": {
    "id": "1z1JgtZ2Xjop"
   },
   "source": [
    "[The Zen of Python](https://www.python.org/dev/peps/pep-0020/)\n",
    "\n",
    "```\n",
    "Beautiful is better than ugly.\n",
    "Explicit is better than implicit.\n",
    "Simple is better than complex.\n",
    "Complex is better than complicated.\n",
    "Flat is better than nested.\n",
    "Sparse is better than dense.\n",
    "Readability counts.\n",
    "Special cases aren't special enough to break the rules.\n",
    "Although practicality beats purity.\n",
    "Errors should never pass silently.\n",
    "Unless explicitly silenced.\n",
    "In the face of ambiguity, refuse the temptation to guess.\n",
    "There should be one-- and preferably only one --obvious way to do it.\n",
    "Although that way may not be obvious at first unless you're Dutch.\n",
    "Now is better than never.\n",
    "Although never is often better than *right* now.\n",
    "If the implementation is hard to explain, it's a bad idea.\n",
    "If the implementation is easy to explain, it may be a good idea.\n",
    "Namespaces are one honking great idea -- let's do more of those!\n",
    "```\n"
   ]
  },
  {
   "cell_type": "markdown",
   "metadata": {
    "id": "_vm-_f87VGTt"
   },
   "source": [
    "## Getting started with NumPy and Pandas\n"
   ]
  },
  {
   "cell_type": "markdown",
   "metadata": {
    "id": "VzzOpXllWRcn"
   },
   "source": [
    "\n",
    "\n",
    "<img src=\"https://i.stack.imgur.com/aClG1.gif\" width=\"650\" height=\"450\" align=\"center\"/>\n",
    "\n",
    "&nbsp;\n",
    "\n",
    "<div style=\"background-color:rgba(0, 0, 0, 0); text-align:left; vertical-align: middle; padding:40px 100px 100px 500px;\">\n",
    "We are now getting deep into the intermediary steps of Python on day one! Do NOT get frustrated and know that even though you are diving in at the deep end, you have many weeks to hone in on what you have been taught today.\n",
    "</div>\n"
   ]
  },
  {
   "cell_type": "markdown",
   "metadata": {
    "id": "g1DDF6riWxGK"
   },
   "source": [
    "### First let's import the needed libraries"
   ]
  },
  {
   "cell_type": "code",
   "execution_count": 3,
   "metadata": {
    "id": "CNLxs5mfVO1-"
   },
   "outputs": [],
   "source": [
    "import numpy as np\n",
    "import matplotlib.pyplot as plt\n",
    "import pandas as pd"
   ]
  },
  {
   "cell_type": "markdown",
   "metadata": {
    "id": "gzIDYhFTW3ql"
   },
   "source": [
    "&nbsp;\n",
    "\n",
    "## Basic Numpy tools\n",
    "\n",
    "&nbsp;\n",
    "\n",
    "<img src=\"https://matteding.github.io/images/broadcasting-3d-scalar.gif\" width=\"600\" height=\"400\" align=\"center\"/>\n",
    "\n",
    "&nbsp;\n",
    "\n",
    "<div style=\"background-color:rgba(0, 0, 0, 0); text-align:left; vertical-align: middle; padding:50px 100px 100px 500px;\">\n",
    "Here, we will exam some fairly simple tools in Numpy for the management of data and doing basic statistics.\n",
    "</div>\n"
   ]
  },
  {
   "cell_type": "markdown",
   "metadata": {
    "id": "yuD2iuU0XOhI"
   },
   "source": [
    "&nbsp;\n",
    "### In the cells below we will learn basic array creation and indexing\n"
   ]
  },
  {
   "cell_type": "code",
   "execution_count": 4,
   "metadata": {
    "colab": {
     "base_uri": "https://localhost:8080/"
    },
    "id": "tMT6PsukXQZr",
    "outputId": "366d2da4-00ac-42ea-b31a-3a2a75ec2647"
   },
   "outputs": [
    {
     "name": "stdout",
     "output_type": "stream",
     "text": [
      "Numpy Array 'a':\n",
      "\n",
      "<class 'numpy.ndarray'>\n",
      "(3,)\n",
      "1 2 3\n",
      "[5 2 3] \n",
      "\n",
      "Numpy Array 'b':\n",
      "\n",
      "(2, 3)\n",
      "[[1 2 3]\n",
      " [4 5 6]]\n",
      "1 2 4\n"
     ]
    }
   ],
   "source": [
    "\n",
    "a = np.array([1, 2, 3])            # Create a simple array\n",
    "print(\"Numpy Array 'a':\\n\")\n",
    "print(type(a))                     # Prints type as recognized by Python\n",
    "print(a.shape)                     # Prints its shape\n",
    "print(a[0], a[1], a[2])            # Prints certain indexed values\n",
    "a[0] = 5                           # Change an element of the array\n",
    "print(a,\"\\n\")                   \n",
    "\n",
    "\n",
    "print(\"Numpy Array 'b':\\n\")\n",
    "b = np.array([[1,2,3],[4,5,6]])    # Create an array with more 'complexity'\n",
    "print(b.shape)\n",
    "print(b)                     \n",
    "print(b[0, 0], b[0, 1], b[1, 0])   \n"
   ]
  },
  {
   "cell_type": "markdown",
   "metadata": {
    "id": "QPtZf7a5XcTH"
   },
   "source": [
    "#### Some basic maths\n"
   ]
  },
  {
   "cell_type": "code",
   "execution_count": 5,
   "metadata": {
    "colab": {
     "base_uri": "https://localhost:8080/"
    },
    "id": "3PcWq3N4XgmF",
    "outputId": "7ddc5fee-bbe2-4dd4-c5d8-bd86eaf3763a"
   },
   "outputs": [
    {
     "name": "stdout",
     "output_type": "stream",
     "text": [
      "[[ 6  8]\n",
      " [10 12]] \n",
      "\n",
      "[[ 5 12]\n",
      " [21 32]] \n",
      "\n",
      "[[1.         1.41421356]\n",
      " [1.73205081 2.        ]] \n",
      "\n"
     ]
    }
   ],
   "source": [
    "x = np.array([[1,2],[3,4]])\n",
    "y = np.array([[5,6],[7,8]])\n",
    "\n",
    "print(x + y,'\\n')\n",
    "print(x * y,'\\n')\n",
    "print(np.sqrt(x),'\\n')"
   ]
  },
  {
   "cell_type": "markdown",
   "metadata": {
    "id": "GiG7GV6sXo1m"
   },
   "source": [
    "&nbsp;\n",
    "\n",
    "## Let's work with Pandas Dataframes\n",
    "\n",
    "&nbsp;\n",
    "\n",
    "<div style=\"background-color:rgba(0, 0, 0, 0); text-align:left; vertical-align: middle; padding:70px 100px 100px 500px;\">\n",
    "The first step will involve you creating a hypothetical dataframe and then you will move on to importing energy data with Pandas to perform basic descriptive statistics.\n",
    "</div>\n"
   ]
  },
  {
   "cell_type": "code",
   "execution_count": 6,
   "metadata": {
    "colab": {
     "base_uri": "https://localhost:8080/",
     "height": 296
    },
    "id": "K2kpRwOoYmAW",
    "outputId": "ce92e298-cd46-4d64-ae9b-a57cbb77fb84"
   },
   "outputs": [
    {
     "data": {
      "text/plain": [
       "<matplotlib.axes._subplots.AxesSubplot at 0xf815d90>"
      ]
     },
     "execution_count": 6,
     "metadata": {},
     "output_type": "execute_result"
    },
    {
     "data": {
      "image/png": "[encoded data removed]",
      "text/plain": [
       "<Figure size 432x288 with 1 Axes>"
      ]
     },
     "metadata": {
      "needs_background": "light"
     },
     "output_type": "display_data"
    }
   ],
   "source": [
    "# Any guess what this is for?\n",
    "%matplotlib inline \n",
    "\n",
    "# Use NumPy to create a random array of wind farm data for three 10 MW wind farms\n",
    "# What is happening here?\n",
    "wf_data = np.random.rand(24,3)*10\n",
    "\n",
    "# Use Pandas to create a dataframe to store the data, naming the columns\n",
    "wf_df = pd.DataFrame(wf_data, columns=['WF_1','WF_2','WF_3'])\n",
    "wf_df.index.name = 'HH'\n",
    "wf_df.head()\n",
    "\n",
    "# And with one line, you can have a basic plot in Pandas\n",
    "wf_df.plot()"
   ]
  },
  {
   "cell_type": "markdown",
   "metadata": {
    "id": "sRGHZzICZOMj"
   },
   "source": [
    "### But this graph is not complete. What can be fixed?"
   ]
  },
  {
   "cell_type": "markdown",
   "metadata": {
    "id": "7lwWwZ2_ZdjA"
   },
   "source": [
    "## Let's go a bit further with our plotting and data now"
   ]
  },
  {
   "cell_type": "markdown",
   "metadata": {
    "id": "cNXOZv6nZpjn"
   },
   "source": [
    "### There are a few ways of importing data into Python and Pandas makes it very convenient.  \n",
    "  \n",
    "Have a look at the code below to see two examples  \n",
    "  \n",
    "`import pandas as pd\n",
    "df = pd.read_csv('filename.txt', sep=\" \", header=None, names=[\"a\",\"b\",\"c\"])`\n",
    "  \n",
    "Or  \n",
    "  \n",
    "`import pandas as pd \n",
    "df = pd.read_csv('file_location\\filename.txt', delimiter = \"\\t\")  # Can input a URL as well`\n",
    "\n"
   ]
  },
  {
   "cell_type": "markdown",
   "metadata": {
    "id": "bQQ--pScZ9Nu"
   },
   "source": [
    "#### Let's go ahead and import some data\n",
    "\n",
    "The code below will use a URL to import data on the power plants of the USA, using the simpliest form of input arguements to the Pandas `read_csv` function. Note how we imported Numpy as `np` and not Pandas as `pd`. Dataframes are conventionally called `df` in Python but you can rename to another logical variable name. \n"
   ]
  },
  {
   "cell_type": "code",
   "execution_count": 7,
   "metadata": {
    "id": "YYYagm-0aCqM"
   },
   "outputs": [],
   "source": [
    "# The following implies an internet connection of course\n",
    "\n",
    "df = pd.read_csv('https://raw.githubusercontent.com/wri/global-power-plant-database/master/source_databases_csv/database_USA.csv')"
   ]
  },
  {
   "cell_type": "markdown",
   "metadata": {
    "id": "A0_lUvY6aKkP"
   },
   "source": [
    "#### Let's have a look at the data\n",
    "\n",
    "The `head` function is an easy way to inspect your dataset. The default number of rows to show is 5. Let's explore the dataset a bit. Use `df.head(20)` to see more rows etc. \n",
    "  \n",
    "  "
   ]
  },
  {
   "cell_type": "code",
   "execution_count": 8,
   "metadata": {
    "colab": {
     "base_uri": "https://localhost:8080/",
     "height": 411
    },
    "id": "-unNu6iRaRKF",
    "outputId": "ce6a5cc3-6205-4f62-a8db-9a3ea9645f35"
   },
   "outputs": [
    {
     "data": {
      "text/html": [
       "<div>\n",
       "<style scoped>\n",
       "    .dataframe tbody tr th:only-of-type {\n",
       "        vertical-align: middle;\n",
       "    }\n",
       "\n",
       "    .dataframe tbody tr th {\n",
       "        vertical-align: top;\n",
       "    }\n",
       "\n",
       "    .dataframe thead th {\n",
       "        text-align: right;\n",
       "    }\n",
       "</style>\n",
       "<table border=\"1\" class=\"dataframe\">\n",
       "  <thead>\n",
       "    <tr style=\"text-align: right;\">\n",
       "      <th></th>\n",
       "      <th>country</th>\n",
       "      <th>country_long</th>\n",
       "      <th>name</th>\n",
       "      <th>gppd_idnr</th>\n",
       "      <th>capacity_mw</th>\n",
       "      <th>latitude</th>\n",
       "      <th>longitude</th>\n",
       "      <th>primary_fuel</th>\n",
       "      <th>other_fuel1</th>\n",
       "      <th>other_fuel2</th>\n",
       "      <th>...</th>\n",
       "      <th>geolocation_source</th>\n",
       "      <th>wepp_id</th>\n",
       "      <th>year_of_capacity_data</th>\n",
       "      <th>generation_gwh_2013</th>\n",
       "      <th>generation_gwh_2014</th>\n",
       "      <th>generation_gwh_2015</th>\n",
       "      <th>generation_gwh_2016</th>\n",
       "      <th>generation_gwh_2017</th>\n",
       "      <th>generation_data_source</th>\n",
       "      <th>estimated_generation_gwh</th>\n",
       "    </tr>\n",
       "  </thead>\n",
       "  <tbody>\n",
       "    <tr>\n",
       "      <th>0</th>\n",
       "      <td>USA</td>\n",
       "      <td>United States of America</td>\n",
       "      <td>12 Applegate Solar LLC</td>\n",
       "      <td>USA0059371</td>\n",
       "      <td>1.9</td>\n",
       "      <td>40.2003</td>\n",
       "      <td>-74.5761</td>\n",
       "      <td>Solar</td>\n",
       "      <td>NaN</td>\n",
       "      <td>NaN</td>\n",
       "      <td>...</td>\n",
       "      <td>U.S. Energy Information Administration</td>\n",
       "      <td>NaN</td>\n",
       "      <td>2017.0</td>\n",
       "      <td>2.41461</td>\n",
       "      <td>2.350</td>\n",
       "      <td>2.430</td>\n",
       "      <td>2.492</td>\n",
       "      <td>2.276</td>\n",
       "      <td>U.S. Energy Information Administration</td>\n",
       "      <td>NaN</td>\n",
       "    </tr>\n",
       "    <tr>\n",
       "      <th>1</th>\n",
       "      <td>USA</td>\n",
       "      <td>United States of America</td>\n",
       "      <td>126 Grove Solar LLC</td>\n",
       "      <td>USA0060858</td>\n",
       "      <td>2.0</td>\n",
       "      <td>42.0761</td>\n",
       "      <td>-71.4227</td>\n",
       "      <td>Solar</td>\n",
       "      <td>NaN</td>\n",
       "      <td>NaN</td>\n",
       "      <td>...</td>\n",
       "      <td>U.S. Energy Information Administration</td>\n",
       "      <td>NaN</td>\n",
       "      <td>2017.0</td>\n",
       "      <td>NaN</td>\n",
       "      <td>NaN</td>\n",
       "      <td>NaN</td>\n",
       "      <td>2.416</td>\n",
       "      <td>2.251</td>\n",
       "      <td>U.S. Energy Information Administration</td>\n",
       "      <td>NaN</td>\n",
       "    </tr>\n",
       "    <tr>\n",
       "      <th>2</th>\n",
       "      <td>USA</td>\n",
       "      <td>United States of America</td>\n",
       "      <td>1420 Coil Av #C</td>\n",
       "      <td>USA0057310</td>\n",
       "      <td>1.3</td>\n",
       "      <td>33.7943</td>\n",
       "      <td>-118.2414</td>\n",
       "      <td>Solar</td>\n",
       "      <td>NaN</td>\n",
       "      <td>NaN</td>\n",
       "      <td>...</td>\n",
       "      <td>U.S. Energy Information Administration</td>\n",
       "      <td>NaN</td>\n",
       "      <td>2017.0</td>\n",
       "      <td>1.52800</td>\n",
       "      <td>2.149</td>\n",
       "      <td>1.515</td>\n",
       "      <td>1.592</td>\n",
       "      <td>1.660</td>\n",
       "      <td>U.S. Energy Information Administration</td>\n",
       "      <td>NaN</td>\n",
       "    </tr>\n",
       "    <tr>\n",
       "      <th>3</th>\n",
       "      <td>USA</td>\n",
       "      <td>United States of America</td>\n",
       "      <td>145 Talmadge Solar</td>\n",
       "      <td>USA0057458</td>\n",
       "      <td>3.8</td>\n",
       "      <td>40.5358</td>\n",
       "      <td>-74.3913</td>\n",
       "      <td>Solar</td>\n",
       "      <td>NaN</td>\n",
       "      <td>NaN</td>\n",
       "      <td>...</td>\n",
       "      <td>U.S. Energy Information Administration</td>\n",
       "      <td>NaN</td>\n",
       "      <td>2017.0</td>\n",
       "      <td>5.03600</td>\n",
       "      <td>4.524</td>\n",
       "      <td>4.802</td>\n",
       "      <td>5.051</td>\n",
       "      <td>4.819</td>\n",
       "      <td>U.S. Energy Information Administration</td>\n",
       "      <td>NaN</td>\n",
       "    </tr>\n",
       "    <tr>\n",
       "      <th>4</th>\n",
       "      <td>USA</td>\n",
       "      <td>United States of America</td>\n",
       "      <td>1515 S Caron Road</td>\n",
       "      <td>USA0007770</td>\n",
       "      <td>4.2</td>\n",
       "      <td>41.9084</td>\n",
       "      <td>-89.0466</td>\n",
       "      <td>Gas</td>\n",
       "      <td>NaN</td>\n",
       "      <td>NaN</td>\n",
       "      <td>...</td>\n",
       "      <td>U.S. Energy Information Administration</td>\n",
       "      <td>NaN</td>\n",
       "      <td>2017.0</td>\n",
       "      <td>0.21500</td>\n",
       "      <td>0.178</td>\n",
       "      <td>0.271</td>\n",
       "      <td>0.306</td>\n",
       "      <td>0.264</td>\n",
       "      <td>U.S. Energy Information Administration</td>\n",
       "      <td>NaN</td>\n",
       "    </tr>\n",
       "  </tbody>\n",
       "</table>\n",
       "<p>5 rows × 25 columns</p>\n",
       "</div>"
      ],
      "text/plain": [
       "  country              country_long                    name   gppd_idnr  \\\n",
       "0     USA  United States of America  12 Applegate Solar LLC  USA0059371   \n",
       "1     USA  United States of America     126 Grove Solar LLC  USA0060858   \n",
       "2     USA  United States of America         1420 Coil Av #C  USA0057310   \n",
       "3     USA  United States of America      145 Talmadge Solar  USA0057458   \n",
       "4     USA  United States of America       1515 S Caron Road  USA0007770   \n",
       "\n",
       "   capacity_mw  latitude  longitude primary_fuel other_fuel1 other_fuel2  ...  \\\n",
       "0          1.9   40.2003   -74.5761        Solar         NaN         NaN  ...   \n",
       "1          2.0   42.0761   -71.4227        Solar         NaN         NaN  ...   \n",
       "2          1.3   33.7943  -118.2414        Solar         NaN         NaN  ...   \n",
       "3          3.8   40.5358   -74.3913        Solar         NaN         NaN  ...   \n",
       "4          4.2   41.9084   -89.0466          Gas         NaN         NaN  ...   \n",
       "\n",
       "                       geolocation_source  wepp_id year_of_capacity_data  \\\n",
       "0  U.S. Energy Information Administration      NaN                2017.0   \n",
       "1  U.S. Energy Information Administration      NaN                2017.0   \n",
       "2  U.S. Energy Information Administration      NaN                2017.0   \n",
       "3  U.S. Energy Information Administration      NaN                2017.0   \n",
       "4  U.S. Energy Information Administration      NaN                2017.0   \n",
       "\n",
       "  generation_gwh_2013 generation_gwh_2014 generation_gwh_2015  \\\n",
       "0             2.41461               2.350               2.430   \n",
       "1                 NaN                 NaN                 NaN   \n",
       "2             1.52800               2.149               1.515   \n",
       "3             5.03600               4.524               4.802   \n",
       "4             0.21500               0.178               0.271   \n",
       "\n",
       "   generation_gwh_2016  generation_gwh_2017  \\\n",
       "0                2.492                2.276   \n",
       "1                2.416                2.251   \n",
       "2                1.592                1.660   \n",
       "3                5.051                4.819   \n",
       "4                0.306                0.264   \n",
       "\n",
       "                   generation_data_source  estimated_generation_gwh  \n",
       "0  U.S. Energy Information Administration                       NaN  \n",
       "1  U.S. Energy Information Administration                       NaN  \n",
       "2  U.S. Energy Information Administration                       NaN  \n",
       "3  U.S. Energy Information Administration                       NaN  \n",
       "4  U.S. Energy Information Administration                       NaN  \n",
       "\n",
       "[5 rows x 25 columns]"
      ]
     },
     "execution_count": 8,
     "metadata": {},
     "output_type": "execute_result"
    }
   ],
   "source": [
    "df.head()"
   ]
  },
  {
   "cell_type": "markdown",
   "metadata": {
    "id": "TfEZyhTwaWbf"
   },
   "source": [
    "&nbsp;\n",
    "\n",
    "### Indexing with Pandas\n",
    "\n",
    "&nbsp;\n",
    "\n",
    "<img src=\"https://i.ibb.co/Tq7xxzx/Python-Indexing.png\" width=\"525\" height=\"400\" align=\"center\"/>\n",
    "\n",
    "&nbsp;\n",
    "\n",
    "<div style=\"background-color:rgba(0, 0, 0, 0); text-align:left; vertical-align: middle; padding:50px 100px 100px 500px;\">\n",
    "Have a look at this example of how to pull data from a dataframe. The full article can be found <a href=\"https://chrisalbon.com/python/data_wrangling/pandas_selecting_rows_on_conditions/\">here</a>\n",
    "</div>\n"
   ]
  },
  {
   "cell_type": "markdown",
   "metadata": {
    "id": "MC1Qo7A8bCu3"
   },
   "source": [
    "Your turn. Let's pull some data from the `df` that we have loaded based on some of the information given to you through the graphic above. *Hint: It is best to only use the data that you need.\n",
    "&nbsp;\n",
    "\n",
    "**Use the cells below to print the following values:**\n",
    "\n",
    "1. The total number of power plants in the US.\n",
    "2. The minimum, maximum and average capacity of the plants in MW.\n",
    "3. The number of listed solar farms.\n",
    "4. The number of different plant types listed.\n",
    "5. The year with the highest generation from all of the plants.\n",
    "\n",
    "\n",
    "We won't be giving answers to these!*\n"
   ]
  },
  {
   "cell_type": "code",
   "execution_count": 9,
   "metadata": {
    "id": "BVC3j8S7bj-z"
   },
   "outputs": [
    {
     "name": "stdout",
     "output_type": "stream",
     "text": [
      "Number of Power Plants is 10173\n"
     ]
    }
   ],
   "source": [
    "# The total number of power plants in the US.\n",
    "number_power_plants = df.shape[0]\n",
    "print(\"Number of Power Plants is\", number_power_plants)"
   ]
  },
  {
   "cell_type": "code",
   "execution_count": 11,
   "metadata": {
    "id": "w-mruVdYbkhr"
   },
   "outputs": [
    {
     "name": "stdout",
     "output_type": "stream",
     "text": [
      "Minimum Capacity is 0.0\n",
      "Maximum Capacity is 6809.0\n",
      "Average Capacity is 117.33708345620762\n"
     ]
    }
   ],
   "source": [
    "# The minimum, maximum and average capacity of the plants in MW.\n",
    "capacity = df[\"capacity_mw\"] # extract the capacities column\n",
    "min_capacity = capacity.min()\n",
    "print(\"Minimum Capacity is\", min_capacity)\n",
    "max_capacity = capacity.max()\n",
    "print(\"Maximum Capacity is\", max_capacity)\n",
    "average_capacity = capacity.mean()\n",
    "print(\"Average Capacity is\", average_capacity)"
   ]
  },
  {
   "cell_type": "code",
   "execution_count": 14,
   "metadata": {
    "id": "jRjkjPjhbnPw"
   },
   "outputs": [
    {
     "name": "stdout",
     "output_type": "stream",
     "text": [
      "Number of Solar Farms is 2292\n"
     ]
    }
   ],
   "source": [
    "# The number of listed solar farms.\n",
    "print(\"Number of Solar Farms is\", list(df.primary_fuel).count(\"Solar\"))"
   ]
  },
  {
   "cell_type": "code",
   "execution_count": 15,
   "metadata": {
    "id": "kjsLtqdYbpGS"
   },
   "outputs": [
    {
     "name": "stdout",
     "output_type": "stream",
     "text": [
      "Number of different plant types is 14\n"
     ]
    }
   ],
   "source": [
    "# The number of different plant types listed.\n",
    "fuel_type = df[\"primary_fuel\"]\n",
    "number_plant_types = fuel_type.nunique()\n",
    "print(\"Number of different plant types is\", number_plant_types)"
   ]
  },
  {
   "cell_type": "code",
   "execution_count": 17,
   "metadata": {
    "id": "YtMaJp8Ibqy9"
   },
   "outputs": [
    {
     "name": "stdout",
     "output_type": "stream",
     "text": [
      "4031252.048862\n"
     ]
    }
   ],
   "source": [
    "# The year with the highest generation from all of the plants.\n",
    "generation = np.array([df[\"generation_gwh_2013\"].sum(), df[\"generation_gwh_2014\"].sum(), df[\"generation_gwh_2015\"].sum(), df[\"generation_gwh_2016\"].sum(), df[\"generation_gwh_2017\"].sum()])\n",
    "print(generation.max()) #this is 2017 but not sure how to show that"
   ]
  },
  {
   "cell_type": "markdown",
   "metadata": {
    "id": "_7V311K0WI71"
   },
   "source": [
    "## Homework"
   ]
  },
  {
   "cell_type": "markdown",
   "metadata": {
    "id": "FvLt2C0XKpas"
   },
   "source": [
    "Using the data available [here](https://bitbucket.org/scotwheeler/leo_3yp_2020/raw/1977824169f7551bccaf3bd1d7f734728e1a69e3/data/example_PV_data.csv), plot the following?\n",
    "\n",
    "- daily energy over the period of a year\n",
    "- daily maximum half-hourly power over June and December\n",
    "- average half-hourly profile for an August day with interquartile range\n",
    "\n",
    "Don't forget a legend, axis labels, units and any conversions.\n",
    "\n",
    "- What is the total solar energy generated over the year?\n",
    "- Is there any missing data? How might you deal with this?\n",
    "- Estimate the capacity of the installation if it is in Oxford (hint: what is the capacity factor for PV in the UK)."
   ]
  },
  {
   "cell_type": "code",
   "execution_count": 2,
   "metadata": {
    "colab": {
     "base_uri": "https://localhost:8080/",
     "height": 235
    },
    "id": "6SOLcHJFljM6",
    "outputId": "548eee03-a18e-4a10-8e0d-06d9d6219390"
   },
   "outputs": [
    {
     "data": {
      "text/html": [
       "<div>\n",
       "<style scoped>\n",
       "    .dataframe tbody tr th:only-of-type {\n",
       "        vertical-align: middle;\n",
       "    }\n",
       "\n",
       "    .dataframe tbody tr th {\n",
       "        vertical-align: top;\n",
       "    }\n",
       "\n",
       "    .dataframe thead th {\n",
       "        text-align: right;\n",
       "    }\n",
       "</style>\n",
       "<table border=\"1\" class=\"dataframe\">\n",
       "  <thead>\n",
       "    <tr style=\"text-align: right;\">\n",
       "      <th></th>\n",
       "      <th>Energy (kWh)</th>\n",
       "    </tr>\n",
       "    <tr>\n",
       "      <th>Datetime</th>\n",
       "      <th></th>\n",
       "    </tr>\n",
       "  </thead>\n",
       "  <tbody>\n",
       "    <tr>\n",
       "      <th>2019-01-01 00:30:00</th>\n",
       "      <td>0.0</td>\n",
       "    </tr>\n",
       "    <tr>\n",
       "      <th>2019-01-01 01:00:00</th>\n",
       "      <td>0.0</td>\n",
       "    </tr>\n",
       "    <tr>\n",
       "      <th>2019-01-01 01:30:00</th>\n",
       "      <td>0.0</td>\n",
       "    </tr>\n",
       "    <tr>\n",
       "      <th>2019-01-01 02:00:00</th>\n",
       "      <td>0.0</td>\n",
       "    </tr>\n",
       "    <tr>\n",
       "      <th>2019-01-01 02:30:00</th>\n",
       "      <td>0.0</td>\n",
       "    </tr>\n",
       "  </tbody>\n",
       "</table>\n",
       "</div>"
      ],
      "text/plain": [
       "                     Energy (kWh)\n",
       "Datetime                         \n",
       "2019-01-01 00:30:00           0.0\n",
       "2019-01-01 01:00:00           0.0\n",
       "2019-01-01 01:30:00           0.0\n",
       "2019-01-01 02:00:00           0.0\n",
       "2019-01-01 02:30:00           0.0"
      ]
     },
     "execution_count": 2,
     "metadata": {
      "tags": []
     },
     "output_type": "execute_result"
    }
   ],
   "source": [
    "# a starting point...\n",
    "import pandas as pd\n",
    "df = pd.read_csv(\"https://bitbucket.org/scotwheeler/leo_3yp_2020/raw/1977824169f7551bccaf3bd1d7f734728e1a69e3/data/example_PV_data.csv\",\n",
    "                 index_col=0, parse_dates=True, dayfirst=True)\n",
    "df.head()"
   ]
  },
  {
   "cell_type": "markdown",
   "metadata": {
    "id": "KwRRt3UvXDha"
   },
   "source": [
    "  \n",
    "## Picture References\n",
    "\n",
    "*Datafram GIF: <a href=\"https://i.stack.imgur.com/aClG1.gif\">Stack Exchange</a>   \n",
    "Numpy GIF: <a href=\"https://matteding.github.io/images/broadcasting-3d-scalar.gif\">Matt Eding</a>  \n",
    "Final Challenge: <a href=\"https://dribbble.com/antoshenbka\">Anton</a>   \n",
    "Reach the finish line: <a href=\"https://i.pinimg.com/originals/5f/f8/8f/5ff88fa577c8b0fa614f2fa3747acf25.gif\">Lidia R</a>*\n"
   ]
  },
  {
   "cell_type": "code",
   "execution_count": 8,
   "metadata": {
    "id": "cWuClRaAWQxY"
   },
   "outputs": [
    {
     "data": {
      "text/plain": [
       "<matplotlib.axes._subplots.AxesSubplot at 0x6225b98>"
      ]
     },
     "execution_count": 8,
     "metadata": {},
     "output_type": "execute_result"
    },
    {
     "data": {
      "image/png": "[encoded data removed]",
      "text/plain": [
       "<Figure size 432x288 with 1 Axes>"
      ]
     },
     "metadata": {
      "needs_background": "light"
     },
     "output_type": "display_data"
    }
   ],
   "source": [
    "#daily energy over the period of a year\n",
    "\n",
    "import numpy as np\n",
    "import matplotlib.pyplot as plt\n",
    "import pandas as pd\n",
    "\n",
    "df = pd.read_csv(\"https://bitbucket.org/scotwheeler/leo_3yp_2020/raw/1977824169f7551bccaf3bd1d7f734728e1a69e3/data/example_PV_data.csv\", index_col=0, parse_dates=True, dayfirst=True)\n",
    "energy = df[\"Energy (kWh)\"]\n",
    "daily_energy = [] #create an empty array\n",
    "\n",
    "for k in range (0,364):\n",
    "    day = energy[(0 + 48*k):(47 + 48*k)]\n",
    "    daily_energy.append(day.sum())\n",
    "\n",
    "\n",
    "#Create new dataframe with Pandas \n",
    "energy_df = pd.DataFrame(daily_energy, columns=['Daily Energy (kWh)'])\n",
    "energy_df.index.name = 'Days'\n",
    "\n",
    "#plot data frame\n",
    "energy_df.plot()\n"
   ]
  },
  {
   "cell_type": "code",
   "execution_count": 10,
   "metadata": {},
   "outputs": [
    {
     "data": {
      "text/plain": [
       "<matplotlib.axes._subplots.AxesSubplot at 0x630c178>"
      ]
     },
     "execution_count": 10,
     "metadata": {},
     "output_type": "execute_result"
    },
    {
     "data": {
      "image/png": "[encoded data removed]",
      "text/plain": [
       "<Figure size 432x288 with 1 Axes>"
      ]
     },
     "metadata": {
      "needs_background": "light"
     },
     "output_type": "display_data"
    },
    {
     "data": {
      "image/png": "[encoded data removed]",
      "text/plain": [
       "<Figure size 432x288 with 1 Axes>"
      ]
     },
     "metadata": {
      "needs_background": "light"
     },
     "output_type": "display_data"
    }
   ],
   "source": [
    "#daily maximum half-hourly power over June and December\n",
    "import numpy as np\n",
    "import matplotlib.pyplot as plt\n",
    "import pandas as pd\n",
    "\n",
    "df = pd.read_csv(\"https://bitbucket.org/scotwheeler/leo_3yp_2020/raw/1977824169f7551bccaf3bd1d7f734728e1a69e3/data/example_PV_data.csv\", index_col=0, parse_dates=True, dayfirst=True)\n",
    "energy = df[\"Energy (kWh)\"]\n",
    "daily_max_june = [] #create an empty array for June\n",
    "daily_max_december = [] #create an empty array for December\n",
    "\n",
    "#June\n",
    "for k in range (0,29):\n",
    "    day = energy[(7248 + 48*k):(7295 + 48*k)]\n",
    "    daily_max_june.append(day.max())\n",
    "    \n",
    "#December\n",
    "for k in range (0,30):\n",
    "    day = energy[(16032 + 48*k):(16079 + 48*k)]\n",
    "    daily_max_december.append(day.max())\n",
    "\n",
    "\n",
    "#Create new dataframe with Pandas \n",
    "energy_june_df = pd.DataFrame(daily_max_june, columns=['Daily maximum half-hourly power in June (kWh)'])\n",
    "energy_june_df.index.name = 'Days'\n",
    "\n",
    "energy_december_df = pd.DataFrame(daily_max_december, columns=['Daily maximum half-hourly power in December (kWh)'])\n",
    "energy_december_df.index.name = 'Days'\n",
    "\n",
    "\n",
    "#plot data frame\n",
    "energy_june_df.plot()\n",
    "energy_december_df.plot()"
   ]
  },
  {
   "cell_type": "code",
   "execution_count": 12,
   "metadata": {},
   "outputs": [
    {
     "data": {
      "text/plain": [
       "<matplotlib.axes._subplots.AxesSubplot at 0x62d5928>"
      ]
     },
     "execution_count": 12,
     "metadata": {},
     "output_type": "execute_result"
    },
    {
     "data": {
      "image/png": "[encoded data removed]",
      "text/plain": [
       "<Figure size 432x288 with 1 Axes>"
      ]
     },
     "metadata": {
      "needs_background": "light"
     },
     "output_type": "display_data"
    }
   ],
   "source": [
    "#average half-hourly profile for an August day with interquartile range\n",
    "\n",
    "import numpy as np\n",
    "import math\n",
    "import matplotlib.pyplot as plt\n",
    "import pandas as pd\n",
    "\n",
    "df = pd.read_csv(\"https://bitbucket.org/scotwheeler/leo_3yp_2020/raw/1977824169f7551bccaf3bd1d7f734728e1a69e3/data/example_PV_data.csv\", index_col=0, parse_dates=True, dayfirst=True)\n",
    "energy = df[\"Energy (kWh)\"]\n",
    "august = energy[10176:11616] #energy values for august\n",
    "average = [] #empty array for averages\n",
    "\n",
    "for k in range (0,47): #iterate over each half hour\n",
    "    energy = 0 \n",
    "    n = 0\n",
    "    for j in range (0,30): #iterate over each day\n",
    "        if (math.isnan(august[k + 48*j]) == True):\n",
    "            continue\n",
    "        else:\n",
    "            energy = energy + august[k + 48*j]\n",
    "            n = n + 1\n",
    "    ave = energy/n\n",
    "    average.append(ave)\n",
    "\n",
    "#Create new dataframe with Pandas \n",
    "energy_df = pd.DataFrame(average, columns=['Average half-hourly power (kWh) in August'])\n",
    "energy_df.index.name = 'Half-hour'\n",
    "\n",
    "#plot data frame\n",
    "energy_df.plot()\n"
   ]
  },
  {
   "cell_type": "code",
   "execution_count": null,
   "metadata": {},
   "outputs": [],
   "source": []
  }
 ],
 "metadata": {
  "colab": {
   "name": "LEO_3YP_python_intro_MT2.ipynb",
   "provenance": [],
   "toc_visible": true
  },
  "kernelspec": {
   "display_name": "Python 3",
   "language": "python",
   "name": "python3"
  },
  "language_info": {
   "codemirror_mode": {
    "name": "ipython",
    "version": 3
   },
   "file_extension": ".py",
   "mimetype": "text/x-python",
   "name": "python",
   "nbconvert_exporter": "python",
   "pygments_lexer": "ipython3",
   "version": "3.8.3"
  }
 },
 "nbformat": 4,
 "nbformat_minor": 1
}
