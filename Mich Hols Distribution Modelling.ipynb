{
 "cells": [
  {
   "cell_type": "code",
   "execution_count": 37,
   "metadata": {},
   "outputs": [
    {
     "name": "stdout",
     "output_type": "stream",
     "text": [
      "7\n",
      "52\n",
      "300\n",
      "2152\n"
     ]
    }
   ],
   "source": [
    "import numpy as np\n",
    "import pandas as pd\n",
    "import matplotlib.pyplot as plt\n",
    "import math\n",
    "\n",
    "# import output from Lingxi's model\n",
    "df = [456,456,456,439,345]\n",
    "\n",
    "#class for tube trailer\n",
    "class trailer:\n",
    "    def __init__(self,capacity,pressure):\n",
    "        self.capacity = capacity #kg\n",
    "        self.pressure = pressure #bar\n",
    "        \n",
    "trailer1 = trailer(300,228) #standard in UK\n",
    "trailer2 = trailer(600,228)\n",
    "trailer3 = trailer(900,300)\n",
    "\n",
    "#select trailer and extract relevant values\n",
    "tubeTrailer = trailer1\n",
    "trailerCapacity = tubeTrailer.capacity\n",
    "trailerPressure = tubeTrailer.pressure\n",
    "\n",
    "#initialise\n",
    "currMassBal = 0\n",
    "trailerCount = 0\n",
    "nTrailers = 0\n",
    "trailerSet = []\n",
    "\n",
    "i = 0\n",
    "\n",
    "while i < len(df):\n",
    "    currMassBal = currMassBal + df[i]\n",
    "    dailyTrailer = 0\n",
    "    nTrailers = 0\n",
    "    #get number of needed trailers given current mass of H2\n",
    "    nTrailers = math.floor((currMassBal/trailerCapacity))\n",
    "    dailyTrailer = dailyTrailer + nTrailers\n",
    "    currMassBal = currMassBal - trailerCapacity*nTrailers\n",
    "    trailerCount = trailerCount + nTrailers\n",
    "    trailerSet.append(dailyTrailer)\n",
    "    \n",
    "    i = i + 1\n",
    "    \n",
    "print(trailerCount)\n",
    "print(currMassBal)\n",
    "print(trailerCapacity)\n",
    "print(sum(df))"
   ]
  },
  {
   "cell_type": "code",
   "execution_count": 15,
   "metadata": {},
   "outputs": [
    {
     "name": "stdout",
     "output_type": "stream",
     "text": [
      "1\n"
     ]
    }
   ],
   "source": [
    "print(math.floor(1.3))\n"
   ]
  },
  {
   "cell_type": "code",
   "execution_count": null,
   "metadata": {},
   "outputs": [],
   "source": []
  }
 ],
 "metadata": {
  "kernelspec": {
   "display_name": "Python 3",
   "language": "python",
   "name": "python3"
  },
  "language_info": {
   "codemirror_mode": {
    "name": "ipython",
    "version": 3
   },
   "file_extension": ".py",
   "mimetype": "text/x-python",
   "name": "python",
   "nbconvert_exporter": "python",
   "pygments_lexer": "ipython3",
   "version": "3.8.5"
  }
 },
 "nbformat": 4,
 "nbformat_minor": 4
}
