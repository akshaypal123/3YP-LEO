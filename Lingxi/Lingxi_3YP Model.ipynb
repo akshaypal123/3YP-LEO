{
 "cells": [
  {
   "cell_type": "markdown",
   "metadata": {},
   "source": [
    "Load Python Libraries"
   ]
  },
  {
   "cell_type": "code",
   "execution_count": 2,
   "metadata": {},
   "outputs": [],
   "source": [
    "Version: 0.2\n",
    "\n",
    "import os\n",
    "import numpy as np\n",
    "import pandas as pd\n",
    "import matplotlib.pyplot as plt\n",
    "import matplotlib.cm as cm\n",
    "import datetime\n",
    "%matplotlib inline"
   ]
  },
  {
   "cell_type": "markdown",
   "metadata": {},
   "source": [
    "Import PV Data. PV Data's format is a single column, with each number representing the kWh output of each half-hour period. "
   ]
  },
  {
   "cell_type": "code",
   "execution_count": 3,
   "metadata": {},
   "outputs": [
    {
     "data": {
      "image/png": "[encoded data removed]",
      "text/plain": [
       "<Figure size 432x288 with 1 Axes>"
      ]
     },
     "metadata": {
      "needs_background": "light"
     },
     "output_type": "display_data"
    },
    {
     "name": "stdout",
     "output_type": "stream",
     "text": [
      "Annual Solar Generation: 3381.96 kWh\n"
     ]
    }
   ],
   "source": [
    "# import data\n",
    "solar_profile = pd.read_csv(\"C:/Users/tangl/OneDrive/Engineering Course/Year 3/3YP/OXEMF/data/solar_example.csv\", usecols=[1]).values\n",
    "\n",
    "# plot data\n",
    "plt.plot(solar_profile[4752:4800])  # just plotting a single day from the entire year\n",
    "plt.ylabel(\"kWh\")\n",
    "plt.xlabel(\"Half hourly period\")\n",
    "plt.show()\n",
    "\n",
    "# calculate annual generation\n",
    "print(\"Annual Solar Generation: {:.2f} kWh\".format(solar_profile.sum()))"
   ]
  },
  {
   "cell_type": "markdown",
   "metadata": {},
   "source": [
    "Create Electrolyzer Class"
   ]
  },
  {
   "cell_type": "code",
   "execution_count": 13,
   "metadata": {},
   "outputs": [],
   "source": [
    "class electrolyzer:\n",
    "    def __init__(self,elec_price, production_rate,install_cost,max_power,min_power_percentage):\n",
    "        self.elec_price = elec_price             #GBP Per kWh\n",
    "        self.production_rate = production_rate   #kg of hydrogen produced per second per MW of electricity\n",
    "        self.install_cost = install_cost         #in GBP\n",
    "        self.max_power = max_power               #in MW\n",
    "        self.min_power = max_power*min_power_percentage/100  #in MW, minimum power to retain its ability to ramp up and down quickly          \n",
    "        \n",
    "    def getOpcost(self):\n",
    "        total_costs = self.elec_price\n",
    "        Opcost = total_costs*self.production_rate\n",
    "        return Opcost"
   ]
  },
  {
   "cell_type": "markdown",
   "metadata": {},
   "source": [
    "ITM HGas3SP Electrolyzer created below"
   ]
  },
  {
   "cell_type": "code",
   "execution_count": 15,
   "metadata": {},
   "outputs": [
    {
     "data": {
      "text/plain": [
       "0.1"
      ]
     },
     "execution_count": 15,
     "metadata": {},
     "output_type": "execute_result"
    }
   ],
   "source": [
    "itm_H3GSP = electrolyzer(0.1437, (5/9), 2677440, 2,5)\n"
   ]
  },
  {
   "cell_type": "markdown",
   "metadata": {},
   "source": [
    "Use a day as experimental sample"
   ]
  },
  {
   "cell_type": "code",
   "execution_count": 31,
   "metadata": {},
   "outputs": [],
   "source": [
    "solar_profile = solar_profile[4752:4800]\n",
    "\n",
    "Power = solar_profile*2*0.001                   #Average power(MW) of solar grid in the half hour period\n",
    "\n",
    "H_produced = Power*itm_H3GSP.production_rate   #Hydrogen Produced (kg) in each half hour period"
   ]
  },
  {
   "cell_type": "code",
   "execution_count": 32,
   "metadata": {},
   "outputs": [
    {
     "data": {
      "text/plain": [
       "array([61319.55601842])"
      ]
     },
     "execution_count": 32,
     "metadata": {},
     "output_type": "execute_result"
    }
   ],
   "source": [
    "T = len(solar_profile)                    # no. of half hour periods\n",
    "grid_demand = np.zeros((T,1))\n",
    "\n",
    "for j in range(T):\n",
    "    if Power[j] >= itm_H3GSP.min_power:\n",
    "        H_produced[j] = Power[j]*itm_H3GSP.production_rate \n",
    "    else: \n",
    "        H_produced[j] = itm_H3GSP.min_power*itm_H3GSP.production_rate\n",
    "        grid_demand[j] = itm_H3GSP.min_power - Power[j] \n",
    "        \n",
    "Elec_cost = 160.3  #GBP per MWh\n",
    "Total_cost = Elec_cost * sum(grid_demand*0.5*160.3)\n",
    "Total_cost\n"
   ]
  },
  {
   "cell_type": "markdown",
   "metadata": {},
   "source": [
    "Code for Hydrogen Storage"
   ]
  },
  {
   "cell_type": "code",
   "execution_count": 33,
   "metadata": {},
   "outputs": [
    {
     "data": {
      "image/png": "[encoded data removed]",
      "text/plain": [
       "<Figure size 432x288 with 1 Axes>"
      ]
     },
     "metadata": {
      "needs_background": "light"
     },
     "output_type": "display_data"
    }
   ],
   "source": [
    "hydrogen_capacity = 10  # kg\n",
    "\n",
    "T = len(solar_profile)                    # no. of half hour periods\n",
    "outputi = np.zeros((T,1))  # hydrogen production flow\n",
    "soc = np.zeros((T,1))  # weight of hydrogen stored\n",
    "\n",
    "\n",
    "for j in range(T):\n",
    "    if j == 0:\n",
    "        socval = 0 \n",
    "    else:\n",
    "        socval = soc[j-1]                 #stores soc from the previous timeslot\n",
    "    \n",
    "    # if there is production of hydrogen\n",
    "    if Power[j] > 0:      \n",
    "        outputi[j] = H_produced[j]\n",
    "        soc[j] = socval + outputi[j]     #battery is being discharged so soc decreases\n",
    "        \n",
    "    # if there is no production of hydrogen\n",
    "    elif solar_profile[j] == 0: \n",
    "        soc[j] = socval                     # battery soc has no change\n",
    "\n",
    "        \n",
    "ax = plt.subplot(1,1,1)\n",
    "p = plt.plot(soc)\n",
    "\n",
    "plt.xticks([0,12,24,36,48])\n",
    "ax.set_xticklabels(['00:00','06:00','12:00','18:00','00:00'])\n",
    "plt.ylabel('Hydrogen (kg)', color='k')\n",
    "plt.xlabel('Time', color='k')\n",
    "plt.show()"
   ]
  },
  {
   "cell_type": "code",
   "execution_count": null,
   "metadata": {},
   "outputs": [],
   "source": []
  }
 ],
 "metadata": {
  "kernelspec": {
   "display_name": "Python 3",
   "language": "python",
   "name": "python3"
  },
  "language_info": {
   "codemirror_mode": {
    "name": "ipython",
    "version": 3
   },
   "file_extension": ".py",
   "mimetype": "text/x-python",
   "name": "python",
   "nbconvert_exporter": "python",
   "pygments_lexer": "ipython3",
   "version": "3.8.3"
  }
 },
 "nbformat": 4,
 "nbformat_minor": 4
}
