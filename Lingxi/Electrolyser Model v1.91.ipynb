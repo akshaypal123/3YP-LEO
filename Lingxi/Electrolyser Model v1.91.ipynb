{
 "cells": [
  {
   "cell_type": "markdown",
   "metadata": {},
   "source": [
    "Load Python Libraries"
   ]
  },
  {
   "cell_type": "code",
   "execution_count": 10,
   "metadata": {},
   "outputs": [],
   "source": [
    "Version: 1.91\n",
    "\n",
    "import os\n",
    "import numpy as np\n",
    "import pandas as pd\n",
    "import matplotlib.pyplot as plt\n",
    "import matplotlib.cm as cm\n",
    "import datetime\n",
    "import matplotlib.dates as mdates\n",
    "%matplotlib inline"
   ]
  },
  {
   "cell_type": "markdown",
   "metadata": {},
   "source": [
    "Import PV Data. PV Data's format has 5 columns, with 2nd column representing the kW output of each hourly period, 1st column: DateTime"
   ]
  },
  {
   "cell_type": "code",
   "execution_count": 11,
   "metadata": {},
   "outputs": [
    {
     "data": {
      "image/png": "[encoded data removed]",
      "text/plain": [
       "<Figure size 432x288 with 1 Axes>"
      ]
     },
     "metadata": {
      "needs_background": "light"
     },
     "output_type": "display_data"
    },
    {
     "name": "stdout",
     "output_type": "stream",
     "text": [
      "Annual Solar Generation: 22149407.71 kWh\n",
      "8760\n"
     ]
    }
   ],
   "source": [
    "# import data\n",
    "\n",
    "#50MW Solar Farm\n",
    "#solar_profile = pd.read_csv(\"C:/Users/tangl/OneDrive/Engineering Course/Year 3/3YP/Data/OxfordSolar50MWhourly.csv\", usecols=[1]).values\n",
    "\n",
    "#30MW Solar Farm\n",
    "#solar_profile = pd.read_csv(\"C:/Users/tangl/OneDrive/Engineering Course/Year 3/3YP/Data/OxfordSolar30MWhourlyFull.csv\", usecols=[1]).values\n",
    "\n",
    "#25MW Solar Farm\n",
    "solar_profile = pd.read_csv(\"C:/Users/tangl/OneDrive/Engineering Course/Year 3/3YP/Data/OxfordSolar25MWhourly.csv\", usecols=[1]).values\n",
    "\n",
    "#20MW Solar Farm\n",
    "#solar_profile = pd.read_csv(\"C:/Users/tangl/OneDrive/Engineering Course/Year 3/3YP/Data/OxfordSolar20MWhourly.csv\", usecols=[1]).values\n",
    "\n",
    "#15MW Solar Farm\n",
    "#solar_profile = pd.read_csv(\"C:/Users/tangl/OneDrive/Engineering Course/Year 3/3YP/Data/OxfordSolar15MWhourly.csv\", usecols=[1]).values\n",
    "\n",
    "# plot data\n",
    "plt.plot(solar_profile/1000)  # just plotting a single day from the entire year\n",
    "plt.ylabel(\"MW\")\n",
    "plt.xlabel(\"hourly period\")\n",
    "plt.title(\"Hourly Solar Power Generation in a year\")\n",
    "plt.show()\n",
    "\n",
    "# calculate annual generation\n",
    "print(\"Annual Solar Generation: {:.2f} kWh\".format(solar_profile.sum()))\n",
    " \n",
    "print(len(solar_profile))"
   ]
  },
  {
   "cell_type": "markdown",
   "metadata": {},
   "source": [
    "Create Electrolyzer Class and Location Class\n"
   ]
  },
  {
   "cell_type": "code",
   "execution_count": 12,
   "metadata": {},
   "outputs": [],
   "source": [
    "class electrolyzer:\n",
    "    def __init__(self,production_rate,max_power):\n",
    "        self.production_rate = production_rate     #kg of hydrogen produced per second per MW of electricity\n",
    "        self.max_power = max_power                 #in MW\n",
    "        \n",
    "class alkaline(electrolyzer):\n",
    "    def __init__(self,production_rate, max_power):\n",
    "        super().__init__(production_rate, max_power)\n",
    "        self.min_power = max_power*15/100  # in MW, minimum power to retain its ability to ramp up and down quickly  \n",
    "        self.lifetime = 65000\n",
    "        self.install_cost = max_power * 908 *1000\n",
    "        \n",
    "class ITM_PEM(electrolyzer):\n",
    "    def __init__(self,production_rate, max_power):\n",
    "        super().__init__(production_rate, max_power)\n",
    "        self.min_power = max_power*10/100  # in MW, minimum power to retain its ability to ramp up and down quickly  \n",
    "        self.lifetime = 50000\n",
    "        self.install_cost = max_power * 574 *1000\n",
    "    \n",
    "class location:\n",
    "    def __init__(self, var_waterprice, fixed_waterprice,var_elec_price,fixed_elec_price):\n",
    "        self.var_waterprice = var_waterprice               # price per m3\n",
    "        self.fixed_waterprice = fixed_waterprice           # price per day \n",
    "        self.var_elec_price = var_elec_price                       #GBP Per MWh\n",
    "        self.fixed_elec_price = fixed_elec_price                  #GBP Per day\n",
    "        \n",
    "class battery:\n",
    "    def __init__(self, power_rating, capacity):\n",
    "        self.power_rating = power_rating             # power rating of battery in MW\n",
    "        self.capacity = capacity                     # energy capacity of battery in MJ\n",
    "        \n",
    "class energysystem: \n",
    "    def __init__(self,location,electrolyzer):\n",
    "        self.location = location\n",
    "        self.electrolyzer = electrolyzer\n",
    "        \n",
    "\n",
    "    \n",
    "  #  def CapEx(self): \n",
    "   #     CapEx = self.location.fixed_waterprice + self.electrolyzer.install_cost\n",
    "    #    return CapEx \n",
    "        \n",
    "    #def OpEx:   #water and electricity costs per kg of hydrogen \n",
    "        \n",
    "    #    return OpEx"
   ]
  },
  {
   "cell_type": "markdown",
   "metadata": {},
   "source": [
    "Different Electrolyser Objects created below"
   ]
  },
  {
   "cell_type": "code",
   "execution_count": 13,
   "metadata": {},
   "outputs": [
    {
     "data": {
      "text/plain": [
       "0.04887671232876712"
      ]
     },
     "execution_count": 13,
     "metadata": {},
     "output_type": "execute_result"
    }
   ],
   "source": [
    "itm_H3GSP = ITM_PEM(0.01/2.35,2.35)\n",
    "NEL_A3880 = alkaline(0.0958/17.072, 17.072)\n",
    "Oxford = location(1.4570,(17.84/365),136.4, 0.2740)\n",
    "itm_35MW = ITM_PEM(0.0243, 35)\n",
    "itm_10MW = ITM_PEM(0.0243, 10)\n",
    "itm_15MW = ITM_PEM(0.0243,15)\n",
    "\n",
    "test_batt = battery(1, 7200)\n",
    "test1 = energysystem(Oxford,itm_H3GSP)\n",
    "test2 = energysystem(Oxford,NEL_A3880)\n",
    "\n",
    "test1.location.fixed_waterprice"
   ]
  },
  {
   "cell_type": "markdown",
   "metadata": {},
   "source": []
  },
  {
   "cell_type": "code",
   "execution_count": 14,
   "metadata": {},
   "outputs": [],
   "source": [
    "Power = solar_profile*0.001                   #Average power(MW) of solar grid in the hourly period\n"
   ]
  },
  {
   "cell_type": "markdown",
   "metadata": {},
   "source": [
    "Theoretical Electrolyzer Power Output in each hour period <br>\n",
    "(Taking into account max rate of change of power) <br>\n",
    "(Without taking into account max and min power)"
   ]
  },
  {
   "cell_type": "code",
   "execution_count": 15,
   "metadata": {},
   "outputs": [
    {
     "data": {
      "text/plain": [
       "<matplotlib.legend.Legend at 0x25048ef5b80>"
      ]
     },
     "execution_count": 15,
     "metadata": {},
     "output_type": "execute_result"
    },
    {
     "data": {
      "image/png": "[encoded data removed]",
      "text/plain": [
       "<Figure size 432x288 with 1 Axes>"
      ]
     },
     "metadata": {
      "needs_background": "light"
     },
     "output_type": "display_data"
    }
   ],
   "source": [
    "T = len(Power)                           # no. of hourly periods\n",
    "grid_demand = np.zeros((T,1))            # power required from grid \n",
    "H_produced = np.zeros((T,1))             # kg of hydrogen produced in the hour period\n",
    "\n",
    "\n",
    "# solar power change compared to  previous hour period\n",
    "p_change = np.zeros((T,1))               \n",
    "for j in range(T):\n",
    "    if j == 0: \n",
    "        p_change[j] = 0\n",
    "    else: \n",
    "        p_change[j] = Power[j] - Power[j-1]\n",
    "\n",
    "# for this test, we will set max power change of electrolyzer to be 2e-4 MW per hour\n",
    "max_p_change = 10\n",
    "\n",
    "needed_p_change = np.zeros((T,1))            # power change needed for electrolyzer\n",
    "electrolyzer_power = np.zeros((T,1))\n",
    "\n",
    "for j in range(T):\n",
    "    if j == 0:\n",
    "        electrolyzer_power[j] = Power[j]\n",
    "        needed_p_change[j] = 0\n",
    "    else: \n",
    "        needed_p_change[j] = Power[j] - electrolyzer_power[j-1]\n",
    "    \n",
    "    if abs(needed_p_change[j]) > max_p_change:      #if electrolyzer cannot handle power change\n",
    "        electrolyzer_power[j] = electrolyzer_power[j-1] + np.sign(needed_p_change[j])*max_p_change\n",
    "        \n",
    "    elif abs(needed_p_change[j]) <= max_p_change:   #if electrolyzer can handle power change\n",
    "        if electrolyzer_power[j-1] == Power[j-1]:      # if electrolyzer is handling it well\n",
    "            electrolyzer_power[j] = Power[j]\n",
    "        elif electrolyzer_power[j-1] != Power[j-1]:     # if electrolyzer was not in sync with solar power \n",
    "            electrolyzer_power[j] = electrolyzer_power[j-1] + np.sign(needed_p_change[j])*min(abs(max_p_change),abs(needed_p_change[j]))\n",
    "            \n",
    "ax = plt.subplot(1,1,1)\n",
    "plt.plot(electrolyzer_power, label = 'Electrolyzer Power')\n",
    "#plt.plot(Power, label = 'Solar Power')\n",
    "plt.xlabel('hourly period')\n",
    "plt.ylabel('Power(MW)')\n",
    "\n",
    "ax.legend()\n"
   ]
  },
  {
   "cell_type": "markdown",
   "metadata": {},
   "source": [
    "State of electrolyser (1 for one and 0 for off)"
   ]
  },
  {
   "cell_type": "code",
   "execution_count": 16,
   "metadata": {},
   "outputs": [],
   "source": [
    "state = np.ones((T,1)) \n",
    "for i in range(104):\n",
    "    state[0+i*24:6+i*24] =0\n",
    "    state[17+i*24:23+i*24] =0\n",
    "\n",
    "for i in range(105,239):\n",
    "    state[0+i*24:4+i*24] =0\n",
    "    state[20+i*24:23+i*24] =0\n",
    "\n",
    "    \n",
    "for i in range(240,364):\n",
    "    state[0+i*24:6+i*24] =0\n",
    "    state[17+i*24:23+i*24] =0\n",
    "    "
   ]
  },
  {
   "cell_type": "markdown",
   "metadata": {},
   "source": [
    "Battery"
   ]
  },
  {
   "cell_type": "code",
   "execution_count": 17,
   "metadata": {},
   "outputs": [],
   "source": [
    "batt_power = np.zeros((T,1))             #Amt of power loaded into battery in MW\n",
    "batt_soc = np.zeros((T,1))               #Amt of energy stored in battery in MWh\n",
    "excess_solar = np.zeros((T,1))\n"
   ]
  },
  {
   "cell_type": "markdown",
   "metadata": {},
   "source": [
    "Hydrogen produced in each hourly period <br>\n",
    "(Taking into account max and min power) <br>\n",
    "Cost of electricity if electrolyzer takes electricity from grid <br>\n",
    "Cost of water  <br>\n",
    "CO2 emissions from grid electricity<br>\n",
    "Assuming electrolyser is powered by solar power by default: CO2 emissions of solar power"
   ]
  },
  {
   "cell_type": "code",
   "execution_count": 18,
   "metadata": {},
   "outputs": [
    {
     "data": {
      "text/plain": [
       "Text(0, 0.5, 'Battery State of Charge (in GJ)')"
      ]
     },
     "execution_count": 18,
     "metadata": {},
     "output_type": "execute_result"
    },
    {
     "data": {
      "image/png": "[encoded data removed]",
      "text/plain": [
       "<Figure size 432x288 with 1 Axes>"
      ]
     },
     "metadata": {
      "needs_background": "light"
     },
     "output_type": "display_data"
    }
   ],
   "source": [
    "# electrolyzer takes electricity from grid, if solar power falls below min power \n",
    "# assume solar power is free \n",
    "\n",
    "batt = test_batt                          # test battery has power of 1MW and capacity of 2MWh\n",
    "electrolyser = itm_10MW\n",
    "\n",
    "# Records hydrogen produced in each hour period\n",
    "for j in range(T):\n",
    "    #if electrolyser is on\n",
    "    if state[j] == 1:\n",
    "        if electrolyzer_power[j] > electrolyser.max_power:                              #if theoretical power exceeds max power\n",
    "            H_produced[j] = electrolyser.max_power*electrolyser.production_rate*60*60 \n",
    "            batt_power[j] = min((electrolyzer_power[j] - electrolyser.max_power), batt.power_rating)\n",
    "            if batt_power[j] == batt.power_rating:\n",
    "                excess_solar[j] = electrolyzer_power[j] - batt.power_rating - electrolyser.max_power\n",
    "            batt_soc[j] = min((batt_soc[j-1] + batt_power[j]*60*60), batt.capacity)\n",
    "            if batt_soc[j-1] == batt.capacity:\n",
    "                excess_solar[j] = electrolyzer_power[j] - electrolyser.max_power\n",
    "        elif electrolyzer_power[j] >= electrolyser.min_power:                           #if theoretical power is within acceptable range      \n",
    "            H_produced[j] = electrolyzer_power[j]*electrolyser.production_rate*60*60\n",
    "            batt_soc[j] = batt_soc[j-1]\n",
    "        else:                                                                           #if theoretical power is below min power\n",
    "            H_produced[j] = electrolyser.min_power*electrolyser.production_rate*60*60\n",
    "            grid_demand[j] = electrolyser.min_power - electrolyzer_power[j] \n",
    "            \n",
    "            if grid_demand[j] > batt.power_rating:                                 #if power demand exceeds battery power rating\n",
    "                if batt_soc[j-1] > batt.power_rating*60*60:\n",
    "                    batt_soc[j] = batt_soc[j-1] - batt.power_rating*3600\n",
    "                    grid_demand[j] = grid_demand[j] - batt.power_rating\n",
    "                else:\n",
    "                    batt_soc[j] = batt_soc[j-1]\n",
    "            elif grid_demand[j] < batt.power_rating:                               #if power demand is within battery power rating\n",
    "                #if there is sufficient energy in battery storage\n",
    "                if batt_soc[j-1] > grid_demand[j]*60*60:\n",
    "                    batt_soc[j] = batt_soc[j-1] - grid_demand[j]*3600\n",
    "                else:\n",
    "                    batt_soc[j] = batt_soc[j-1]\n",
    "                \n",
    "    #if electrolyser is off\n",
    "    else:\n",
    "        H_produced[j] = 0\n",
    "        batt_power[j] = min(Power[j],batt.power_rating)\n",
    "        batt_soc[j] = min((batt_soc[j-1] + batt_power[j]*60*60),batt.capacity)\n",
    "        \n",
    "ax = plt.subplot(1,1,1)\n",
    "plt.plot(batt_soc/1000)\n",
    "plt.title(\"Hourly Battery State of Charge\")\n",
    "plt.xticks([0,744,1392,2136,2856,3600,4320,5064,5808,6528,7272,7992])\n",
    "ax.set_xticklabels(['Jan','Feb','Mar','Apr','May','Jun','Jul','Aug','Sep','Oct','Nov','Dec'])\n",
    "plt.xlabel('Months')\n",
    "plt.ylabel('Battery State of Charge (in GJ)')\n"
   ]
  },
  {
   "cell_type": "code",
   "execution_count": 19,
   "metadata": {},
   "outputs": [
    {
     "data": {
      "text/plain": [
       "<matplotlib.legend.Legend at 0x25048d8bdf0>"
      ]
     },
     "execution_count": 19,
     "metadata": {},
     "output_type": "execute_result"
    },
    {
     "data": {
      "image/png": "[encoded data removed]",
      "text/plain": [
       "<Figure size 432x288 with 1 Axes>"
      ]
     },
     "metadata": {
      "needs_background": "light"
     },
     "output_type": "display_data"
    }
   ],
   "source": [
    "ax = plt.subplot(1,1,1)\n",
    "plt.plot(H_produced, label = 'Hydrogen Produced')\n",
    "plt.xlabel('Hourly period')\n",
    "plt.ylabel('Hydrogen Produced(kg)')\n",
    "\n",
    "ax.legend()\n"
   ]
  },
  {
   "cell_type": "markdown",
   "metadata": {},
   "source": [
    "CO2 emissions and operating costs"
   ]
  },
  {
   "cell_type": "code",
   "execution_count": 27,
   "metadata": {},
   "outputs": [
    {
     "name": "stdout",
     "output_type": "stream",
     "text": [
      "Total co2 emissions (in kg) from electricity is\n",
      "[305171.45162869]\n",
      "Total cost of grid electricity consumption is\n",
      "[185319.60024647]\n",
      "Total cost of water consumption is\n",
      "[24739.39838907]\n",
      "Total solar energy sold(in MWh) is\n",
      "[1364.27108462]\n"
     ]
    }
   ],
   "source": [
    "#Solar Power needed in each hour\n",
    "co2persolar = 0    #gCO2e per kWh\n",
    "\n",
    "solar_power = np.zeros((T,1))\n",
    "for j in range(T):\n",
    "    if state[j] == 1 :  \n",
    "        solar_power[j] = electrolyzer_power[j]\n",
    "    if state[j] == 0 :\n",
    "        solar_power[j] = batt_power[j]\n",
    "solar_co2_emissions = sum(solar_power*co2persolar*1000)       #in grams\n",
    "\n",
    "co2perelec = 256                                               #gCO2e per kWh\n",
    "grid_co2_emissions = sum(grid_demand*co2perelec)               #in kilograms\n",
    "\n",
    "\n",
    "print('Total co2 emissions (in kg) from electricity is')\n",
    "print(solar_co2_emissions+grid_co2_emissions)\n",
    "\n",
    "# Grid Electricity Costs\n",
    "Total_elec_cost =sum(grid_demand* Oxford.var_elec_price) + T/24*Oxford.fixed_elec_price\n",
    "print('Total cost of grid electricity consumption is')\n",
    "print(Total_elec_cost)\n",
    "\n",
    "# Water costs\n",
    "Water_consumption = 9                                         #kg of water needed for each kg of hydrogen\n",
    "Total_water_price = T/24*Oxford.fixed_waterprice + sum(H_produced*Water_consumption*Oxford.var_waterprice/1000)\n",
    "print('Total cost of water consumption is')\n",
    "print(Total_water_price)\n",
    "\n",
    "# Excess solar power \n",
    "print('Total solar energy sold(in MWh) is')\n",
    "print(sum(excess_solar))"
   ]
  },
  {
   "cell_type": "markdown",
   "metadata": {},
   "source": [
    "Daily Hydrogen Production throughout the year "
   ]
  },
  {
   "cell_type": "code",
   "execution_count": 21,
   "metadata": {},
   "outputs": [
    {
     "name": "stdout",
     "output_type": "stream",
     "text": [
      "Total hydrogen produced (in kg) is\n",
      "[1885270.98216078]\n"
     ]
    },
    {
     "data": {
      "image/png": "[encoded data removed]",
      "text/plain": [
       "<Figure size 432x288 with 1 Axes>"
      ]
     },
     "metadata": {
      "needs_background": "light"
     },
     "output_type": "display_data"
    }
   ],
   "source": [
    "No_of_days = T/24\n",
    "No_of_days = int(No_of_days)\n",
    "daily_H2_pd = np.zeros((No_of_days))\n",
    "for i in range(int(No_of_days)):\n",
    "    daily_H2_pd[i] = sum(H_produced[(0 + i*24):(23 + i*24)])\n",
    "\n",
    "ax = plt.subplot(1,1,1)\n",
    "\n",
    "#plt.plot(daily_H2_pd, label = 'Daily Hydrogen Produced')\n",
    "daysNum = len(daily_H2_pd)\n",
    "daySet = np.arange(1,daysNum+1)\n",
    "plt.bar(daySet,daily_H2_pd/1000)\n",
    "plt.title(\"Daily Hydrogen Produced in a year\")\n",
    "plt.xticks([0,31,58,89,119,150,180,211,242,272,303,333])\n",
    "ax.set_xticklabels(['Jan','Feb','Mar','Apr','May','Jun','Jul','Aug','Sep','Oct','Nov','Dec'])\n",
    "plt.xlabel('Months')\n",
    "plt.ylabel('Hydrogen Produced(tonnes)')\n",
    "\n",
    "total_annual_hydrogen = sum(H_produced)\n",
    "print('Total hydrogen produced (in kg) is')\n",
    "print(total_annual_hydrogen)"
   ]
  },
  {
   "cell_type": "markdown",
   "metadata": {},
   "source": [
    "Reverse Engineer actual electrolyzer power "
   ]
  },
  {
   "cell_type": "code",
   "execution_count": 22,
   "metadata": {},
   "outputs": [
    {
     "data": {
      "text/plain": [
       "<matplotlib.legend.Legend at 0x25049400b80>"
      ]
     },
     "execution_count": 22,
     "metadata": {},
     "output_type": "execute_result"
    },
    {
     "data": {
      "image/png": "[encoded data removed]",
      "text/plain": [
       "<Figure size 432x288 with 1 Axes>"
      ]
     },
     "metadata": {
      "needs_background": "light"
     },
     "output_type": "display_data"
    }
   ],
   "source": [
    "actual_electrolyzer_power = H_produced / electrolyser.production_rate\n",
    "\n",
    "ax = plt.subplot(1,1,1)\n",
    "plt.plot(H_produced, label = 'Actual Electrolyzer Power')\n",
    "plt.xlabel('Hourly period')\n",
    "plt.ylabel('Power(MW)')\n",
    "\n",
    "ax.legend()"
   ]
  },
  {
   "cell_type": "markdown",
   "metadata": {},
   "source": [
    "Code for Hydrogen Storage"
   ]
  },
  {
   "cell_type": "code",
   "execution_count": 23,
   "metadata": {},
   "outputs": [
    {
     "data": {
      "image/png": "[encoded data removed]",
      "text/plain": [
       "<Figure size 432x288 with 1 Axes>"
      ]
     },
     "metadata": {
      "needs_background": "light"
     },
     "output_type": "display_data"
    }
   ],
   "source": [
    "hydrogen_capacity = 10  # kg\n",
    "\n",
    "T = len(solar_profile)                    # no. of half hour periods\n",
    "outputi = np.zeros((T,1))  # hydrogen production flow\n",
    "soc = np.zeros((T,1))  # weight of hydrogen stored\n",
    "\n",
    "\n",
    "for j in range(T):\n",
    "    if j == 0:\n",
    "        socval = 0 \n",
    "    else:\n",
    "        socval = soc[j-1]                 #stores soc from the previous timeslot\n",
    "    \n",
    "    # if there is production of hydrogen\n",
    "    if Power[j] > 0:      \n",
    "        outputi[j] = H_produced[j]\n",
    "        soc[j] = socval + outputi[j]     #battery is being discharged so soc decreases\n",
    "        \n",
    "    # if there is no production of hydrogen\n",
    "    elif solar_profile[j] == 0: \n",
    "        soc[j] = socval                     # battery soc has no change\n",
    "\n",
    "        \n",
    "ax = plt.subplot(1,1,1)\n",
    "p = plt.plot(soc)\n",
    "\n",
    "plt.xticks([0,6,12,18,24])\n",
    "ax.set_xticklabels(['00:00','06:00','12:00','18:00','00:00'])\n",
    "plt.ylabel('Hydrogen (kg)', color='k')\n",
    "plt.xlabel('Time', color='k')\n",
    "plt.show()"
   ]
  },
  {
   "cell_type": "markdown",
   "metadata": {},
   "source": [
    "Converts array into csv"
   ]
  },
  {
   "cell_type": "code",
   "execution_count": 24,
   "metadata": {},
   "outputs": [],
   "source": [
    "#pd.DataFrame(daily_H2_pd).to_csv(r'C:/Users/tangl/OneDrive/Engineering Course/Year 3/3YP/data.csv',index = False)"
   ]
  },
  {
   "cell_type": "markdown",
   "metadata": {},
   "source": [
    "Net Present Cost of electrolyser <br>\n",
    "Assuming a yearly depreciation to a value of zero at the end of the lifetime<br>\n",
    "Lifetime of electrolyser is depleted for each non-zero output "
   ]
  },
  {
   "cell_type": "code",
   "execution_count": 25,
   "metadata": {},
   "outputs": [
    {
     "name": "stdout",
     "output_type": "stream",
     "text": [
      "50000\n",
      "10\n"
     ]
    }
   ],
   "source": [
    "lifetime = electrolyser.lifetime\n",
    "print(lifetime)\n",
    "discount_rate = 0.035\n",
    "operating_hours = np.count_nonzero(H_produced)                 # Number of operating hours in a year\n",
    "years_lifetime = lifetime/operating_hours                      # Lifetime in number of years\n",
    "years_lifetime_rounded = np.round(years_lifetime)              # round off number of years\n",
    "years_lifetime_rounded = int(years_lifetime_rounded)\n",
    "print(years_lifetime_rounded)\n",
    "annual_cost = electrolyser.install_cost/years_lifetime_rounded\n",
    "\n",
    "cost = np.zeros((years_lifetime_rounded,1))   \n",
    "for j in range(years_lifetime_rounded):\n",
    "    cost[j] = annual_cost *((1-discount_rate)**j)\n",
    "    \n",
    "npv = sum(cost)"
   ]
  },
  {
   "cell_type": "code",
   "execution_count": 26,
   "metadata": {},
   "outputs": [
    {
     "name": "stdout",
     "output_type": "stream",
     "text": [
      "[4915370.70388892]\n"
     ]
    }
   ],
   "source": [
    "print(npv)"
   ]
  },
  {
   "cell_type": "code",
   "execution_count": null,
   "metadata": {},
   "outputs": [],
   "source": []
  },
  {
   "cell_type": "code",
   "execution_count": null,
   "metadata": {},
   "outputs": [],
   "source": []
  }
 ],
 "metadata": {
  "kernelspec": {
   "display_name": "Python 3",
   "language": "python",
   "name": "python3"
  },
  "language_info": {
   "codemirror_mode": {
    "name": "ipython",
    "version": 3
   },
   "file_extension": ".py",
   "mimetype": "text/x-python",
   "name": "python",
   "nbconvert_exporter": "python",
   "pygments_lexer": "ipython3",
   "version": "3.8.3"
  }
 },
 "nbformat": 4,
 "nbformat_minor": 4
}
