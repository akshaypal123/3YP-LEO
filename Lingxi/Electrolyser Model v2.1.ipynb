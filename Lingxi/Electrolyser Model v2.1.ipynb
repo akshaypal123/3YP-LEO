{
 "cells": [
  {
   "cell_type": "markdown",
   "metadata": {},
   "source": [
    "Load Python Libraries"
   ]
  },
  {
   "cell_type": "code",
   "execution_count": 1,
   "metadata": {},
   "outputs": [],
   "source": [
    "Version: 2.1\n",
    "\n",
    "import os\n",
    "import numpy as np\n",
    "import pandas as pd\n",
    "import matplotlib.pyplot as plt\n",
    "%matplotlib inline"
   ]
  },
  {
   "cell_type": "code",
   "execution_count": 2,
   "metadata": {},
   "outputs": [],
   "source": [
    "SolarFarmSize = 37\n",
    "ElectrolyserPower = 20\n",
    "BatteryCapacity = 5"
   ]
  },
  {
   "cell_type": "markdown",
   "metadata": {},
   "source": [
    "Input Solar Farm Size in MW and output Solar Farm hourly power in a year"
   ]
  },
  {
   "cell_type": "code",
   "execution_count": 3,
   "metadata": {},
   "outputs": [
    {
     "data": {
      "image/png": "[encoded data removed]",
      "text/plain": [
       "<Figure size 432x288 with 1 Axes>"
      ]
     },
     "metadata": {
      "needs_background": "light"
     },
     "output_type": "display_data"
    }
   ],
   "source": [
    "#set up data with relevant columns for irradiance\n",
    "df = pd.read_csv(\"C:/Users/tangl/OneDrive/Engineering Course/Year 3/3YP/Data/ninja_weather_51.7508_-1.2538_uncorrected.csv\")\n",
    "\n",
    "totalIrr = 0.001*df[\"radiation_surface\"] #gives radiation in kW/m^2\n",
    "\n",
    "#gotta be careful here - irradiance needs to account for time methinkst\n",
    "#to get kWh/m2 we need to multiply each half hour figure by 0.5\n",
    "#i take that back, the reason i originally didn't change it is because it is for one hour each, so kWh is just kW * 1 so no change needed\n",
    "    \n",
    "class solar_model:\n",
    "    \"\"\"Non-dispatchable asset base class\"\"\"\n",
    "    def __init__(self):\n",
    "        self.capacity = 144 #kW\n",
    "        self.efficiency = 0.17 #taken from average, will be specified\n",
    "        self.area = 1.9404 #m^2, taken from 72 cell 99*196cm panel\n",
    "#class for pvAsset\n",
    "class pvAsset(solar_model):\n",
    "    \"\"\"PV Asset Class\"\"\"\n",
    "    def __init__(self, Power):                              #Power is in MW\n",
    "        self.capacity = 300\n",
    "        self.efficiency = 0.183\n",
    "        self.area = 1.6368\n",
    "        self.nPanels = round((Power*1000000)/300)\n",
    "        self.Power = Power\n",
    "        \n",
    "pvChosen = pvAsset(SolarFarmSize)                                      # CHOOSE SOLAR FARM CAPACITY HERE!!!!!!@@@@@@\n",
    "\n",
    "percAreaEff = 0.7 #due to angles of tilt vs sunlight etc\n",
    "total_capacity = pvChosen.nPanels*pvChosen.capacity\n",
    "total_Area = pvChosen.nPanels*pvChosen.area*percAreaEff\n",
    "areaEff = total_Area*pvChosen.efficiency\n",
    "hourlyGen1 = areaEff*totalIrr\n",
    "\n",
    "Power = hourlyGen1*0.001\n",
    "plt.plot(Power)\n",
    "plt.ylabel(\"MW\")\n",
    "plt.xlabel(\"hourly period\")\n",
    "plt.title(\"Hourly Solar Power Generation in a year\")\n",
    "plt.show()\n"
   ]
  },
  {
   "cell_type": "markdown",
   "metadata": {},
   "source": [
    "Load object classes for subsequent analysis"
   ]
  },
  {
   "cell_type": "code",
   "execution_count": 4,
   "metadata": {},
   "outputs": [],
   "source": [
    "class electrolyzer:\n",
    "    def __init__(self,production_rate,max_power):\n",
    "        self.production_rate = production_rate     #kg of hydrogen produced per second per MW of electricity\n",
    "        self.max_power = max_power                 #in MW\n",
    "        \n",
    "class alkaline(electrolyzer):\n",
    "    def __init__(self,production_rate, max_power):\n",
    "        super().__init__(production_rate, max_power)\n",
    "        self.min_power = max_power*15/100  # in MW, minimum power to retain its ability to ramp up and down quickly  \n",
    "        self.lifetime = 65000\n",
    "        self.install_cost = max_power * 908 *1000\n",
    "        \n",
    "class ITM_PEM(electrolyzer):\n",
    "    def __init__(self,production_rate, max_power):\n",
    "        super().__init__(production_rate, max_power)\n",
    "        self.min_power = max_power*10/100  # in MW, minimum power to retain its ability to ramp up and down quickly  \n",
    "        self.lifetime = 50000\n",
    "        self.install_cost = max_power * 432 *1000\n",
    "    \n",
    "class location:\n",
    "    def __init__(self, var_waterprice, fixed_waterprice,var_elec_price,fixed_elec_price):\n",
    "        self.var_waterprice = var_waterprice               # price per m3\n",
    "        self.fixed_waterprice = fixed_waterprice           # price per day \n",
    "        self.var_elec_price = var_elec_price                       #GBP Per MWh\n",
    "        self.fixed_elec_price = fixed_elec_price                  #GBP Per day\n",
    "        \n",
    "class battery:\n",
    "    def __init__(self, capacity):                           # input capacity is in MWh\n",
    "        self.power_rating = 0.25 * capacity           # power rating (in MW) of battery is pegged to capacity (in MWh)\n",
    "        self.capacity = capacity *3600                    # energy capacity of battery in MJ"
   ]
  },
  {
   "cell_type": "markdown",
   "metadata": {},
   "source": [
    "Input: water and electricity costs, electrolyser power, battery capacity"
   ]
  },
  {
   "cell_type": "code",
   "execution_count": 5,
   "metadata": {},
   "outputs": [],
   "source": [
    "Oxford = location(1.4570,(17.84/365),136.4, 0.2740)\n",
    "electrolyser = ITM_PEM(0.0243, ElectrolyserPower)\n",
    "batt = battery(BatteryCapacity)"
   ]
  },
  {
   "cell_type": "markdown",
   "metadata": {},
   "source": [
    "Operating Hours"
   ]
  },
  {
   "cell_type": "code",
   "execution_count": 6,
   "metadata": {},
   "outputs": [],
   "source": [
    "T = len(Power)                           # no. of hourly periods\n",
    "\n",
    "state = np.ones((T,1)) \n",
    "for i in range(104):\n",
    "    state[0+i*24:6+i*24] =0\n",
    "    state[17+i*24:23+i*24] =0\n",
    "\n",
    "for i in range(105,239):\n",
    "    state[0+i*24:4+i*24] =0\n",
    "    state[20+i*24:23+i*24] =0\n",
    "\n",
    "    \n",
    "for i in range(240,364):\n",
    "    state[0+i*24:6+i*24] =0\n",
    "    state[17+i*24:23+i*24] =0"
   ]
  },
  {
   "cell_type": "markdown",
   "metadata": {},
   "source": [
    "Electrolyser operation"
   ]
  },
  {
   "cell_type": "code",
   "execution_count": 7,
   "metadata": {},
   "outputs": [
    {
     "data": {
      "text/plain": [
       "Text(0, 0.5, 'Battery State of Charge (in GJ)')"
      ]
     },
     "execution_count": 7,
     "metadata": {},
     "output_type": "execute_result"
    },
    {
     "data": {
      "image/png": "[encoded data removed]",
      "text/plain": [
       "<Figure size 432x288 with 1 Axes>"
      ]
     },
     "metadata": {
      "needs_background": "light"
     },
     "output_type": "display_data"
    }
   ],
   "source": [
    "grid_demand = np.zeros((T,1))            # power required from grid \n",
    "H_produced = np.zeros((T,1))             # kg of hydrogen produced in the hour period\n",
    "batt_power = np.zeros((T,1))             #Amt of power loaded into battery in MW\n",
    "batt_soc = np.zeros((T,1))               #Amt of energy stored in battery in MJ\n",
    "excess_solar = np.zeros((T,1))\n",
    "electrolyzer_power = Power\n",
    "\n",
    "# Records hydrogen produced in each hour period\n",
    "for j in range(T):\n",
    "    #if electrolyser is on\n",
    "    if state[j] == 1:\n",
    "        if electrolyzer_power[j] > electrolyser.max_power:                              #if theoretical power exceeds max power\n",
    "            H_produced[j] = electrolyser.max_power*electrolyser.production_rate*60*60 \n",
    "            batt_power[j] = min((electrolyzer_power[j] - electrolyser.max_power), batt.power_rating)\n",
    "            if batt_power[j] == batt.power_rating:\n",
    "                excess_solar[j] = electrolyzer_power[j] - batt.power_rating - electrolyser.max_power\n",
    "            batt_soc[j] = min((batt_soc[j-1] + batt_power[j]*60*60), batt.capacity)\n",
    "            if batt_soc[j-1] == batt.capacity:\n",
    "                excess_solar[j] = electrolyzer_power[j] - electrolyser.max_power\n",
    "        elif electrolyzer_power[j] >= electrolyser.min_power:                           #if theoretical power is within acceptable range      \n",
    "            H_produced[j] = electrolyzer_power[j]*electrolyser.production_rate*60*60\n",
    "            batt_soc[j] = batt_soc[j-1]\n",
    "        else:                                                                           #if theoretical power is below min power\n",
    "            H_produced[j] = electrolyser.min_power*electrolyser.production_rate*60*60\n",
    "            grid_demand[j] = electrolyser.min_power - electrolyzer_power[j] \n",
    "            \n",
    "            if grid_demand[j] > batt.power_rating:                                 #if power demand exceeds battery power rating\n",
    "                if batt_soc[j-1] > batt.power_rating*60*60:\n",
    "                    batt_soc[j] = batt_soc[j-1] - batt.power_rating*3600\n",
    "                    grid_demand[j] = grid_demand[j] - batt.power_rating\n",
    "                else:\n",
    "                    batt_soc[j] = batt_soc[j-1]\n",
    "            elif grid_demand[j] < batt.power_rating:                               #if power demand is within battery power rating\n",
    "                #if there is sufficient energy in battery storage\n",
    "                if batt_soc[j-1] > grid_demand[j]*60*60:\n",
    "                    batt_soc[j] = batt_soc[j-1] - grid_demand[j]*3600\n",
    "                else:\n",
    "                    batt_soc[j] = batt_soc[j-1]\n",
    "                \n",
    "    #if electrolyser is off\n",
    "    else:\n",
    "        H_produced[j] = 0\n",
    "        batt_power[j] = min(Power[j],batt.power_rating)\n",
    "        batt_soc[j] = min((batt_soc[j-1] + batt_power[j]*60*60),batt.capacity)\n",
    "        \n",
    "ax = plt.subplot(1,1,1)\n",
    "plt.plot(batt_soc/1000)\n",
    "plt.title(\"Hourly Battery State of Charge\")\n",
    "plt.xticks([0,744,1392,2136,2856,3600,4320,5064,5808,6528,7272,7992])\n",
    "ax.set_xticklabels(['Jan','Feb','Mar','Apr','May','Jun','Jul','Aug','Sep','Oct','Nov','Dec'])\n",
    "plt.xlabel('Months')\n",
    "plt.ylabel('Battery State of Charge (in GJ)')"
   ]
  },
  {
   "cell_type": "code",
   "execution_count": 8,
   "metadata": {},
   "outputs": [
    {
     "data": {
      "text/plain": [
       "<matplotlib.legend.Legend at 0x180b1cf5ca0>"
      ]
     },
     "execution_count": 8,
     "metadata": {},
     "output_type": "execute_result"
    },
    {
     "data": {
      "image/png": "[encoded data removed]",
      "text/plain": [
       "<Figure size 432x288 with 1 Axes>"
      ]
     },
     "metadata": {
      "needs_background": "light"
     },
     "output_type": "display_data"
    }
   ],
   "source": [
    "ax = plt.subplot(1,1,1)\n",
    "plt.plot(H_produced, label = 'Hydrogen Produced')\n",
    "plt.xlabel('Hourly period')\n",
    "plt.ylabel('Hydrogen Produced(kg)')\n",
    "\n",
    "ax.legend()\n"
   ]
  },
  {
   "cell_type": "code",
   "execution_count": 9,
   "metadata": {},
   "outputs": [
    {
     "name": "stdout",
     "output_type": "stream",
     "text": [
      "Total hydrogen produced (in kg) is\n",
      "[3044141.24598244]\n"
     ]
    },
    {
     "data": {
      "image/png": "[encoded data removed]",
      "text/plain": [
       "<Figure size 432x288 with 1 Axes>"
      ]
     },
     "metadata": {
      "needs_background": "light"
     },
     "output_type": "display_data"
    }
   ],
   "source": [
    "No_of_days = T/24\n",
    "No_of_days = int(No_of_days)\n",
    "daily_H2_pd = np.zeros((No_of_days))\n",
    "for i in range(int(No_of_days)):\n",
    "    daily_H2_pd[i] = sum(H_produced[(0 + i*24):(23 + i*24)])\n",
    "\n",
    "ax = plt.subplot(1,1,1)\n",
    "\n",
    "#plt.plot(daily_H2_pd, label = 'Daily Hydrogen Produced')\n",
    "daysNum = len(daily_H2_pd)\n",
    "daySet = np.arange(1,daysNum+1)\n",
    "plt.bar(daySet,daily_H2_pd/1000)\n",
    "plt.title(\"Daily Hydrogen Produced in a year\")\n",
    "plt.xticks([0,31,58,89,119,150,180,211,242,272,303,333])\n",
    "ax.set_xticklabels(['Jan','Feb','Mar','Apr','May','Jun','Jul','Aug','Sep','Oct','Nov','Dec'])\n",
    "plt.xlabel('Months')\n",
    "plt.ylabel('Hydrogen Produced(tonnes)')\n",
    "\n",
    "total_annual_hydrogen = sum(H_produced)\n",
    "print('Total hydrogen produced (in kg) is')\n",
    "print(total_annual_hydrogen)"
   ]
  },
  {
   "cell_type": "markdown",
   "metadata": {},
   "source": [
    "Costs"
   ]
  },
  {
   "cell_type": "code",
   "execution_count": 10,
   "metadata": {},
   "outputs": [
    {
     "name": "stdout",
     "output_type": "stream",
     "text": [
      "Total co2 emissions (in kg) from electricity is\n",
      "[635395.71094728]\n",
      "Total cost of grid electricity consumption is\n",
      "[338646.78723909]\n",
      "Total cost of water consumption is\n",
      "[39935.66415857]\n",
      "Total solar energy sold(in MWh) is\n",
      "[78.23671174]\n",
      "Total operating lifetime(in hours) is\n",
      "50000\n",
      "Total operating lifetime(in years) is\n",
      "10\n",
      "Electrolyser cost is \n",
      "8640000\n",
      "Net Present Value of Electrolyser Cost is \n",
      "[7398746.14662026]\n",
      "Cost of Solar Farm Installation\n",
      "16650000\n",
      "Cost of Solar Farm O & M\n",
      "6700\n",
      "Cost of Battery\n",
      "445.95\n"
     ]
    }
   ],
   "source": [
    "#Solar Power needed in each hour\n",
    "co2persolar = 0    #gCO2e per kWh\n",
    "\n",
    "solar_power = np.zeros((T,1))\n",
    "for j in range(T):\n",
    "    if state[j] == 1 :  \n",
    "        solar_power[j] = electrolyzer_power[j]\n",
    "    if state[j] == 0 :\n",
    "        solar_power[j] = batt_power[j]\n",
    "solar_co2_emissions = sum(solar_power*co2persolar*1000)       #in grams\n",
    "\n",
    "co2perelec = 256                                               #gCO2e per kWh\n",
    "grid_co2_emissions = sum(grid_demand*co2perelec)               #in kilograms\n",
    "\n",
    "\n",
    "print('Total co2 emissions (in kg) from electricity is')\n",
    "print(solar_co2_emissions+grid_co2_emissions)\n",
    "\n",
    "# Grid Electricity Costs\n",
    "Total_elec_cost =sum(grid_demand* Oxford.var_elec_price) + T/24*Oxford.fixed_elec_price\n",
    "print('Total cost of grid electricity consumption is')\n",
    "print(Total_elec_cost)\n",
    "\n",
    "# Water costs\n",
    "Water_consumption = 9                                         #kg of water needed for each kg of hydrogen\n",
    "Total_water_price = T/24*Oxford.fixed_waterprice + sum(H_produced*Water_consumption*Oxford.var_waterprice/1000)\n",
    "print('Total cost of water consumption is')\n",
    "print(Total_water_price)\n",
    "\n",
    "# Excess solar power \n",
    "print('Total solar energy sold(in MWh) is')\n",
    "print(sum(excess_solar))\n",
    "\n",
    "# Operating Lifetime\n",
    "lifetime = electrolyser.lifetime\n",
    "print('Total operating lifetime(in hours) is')\n",
    "print(lifetime)\n",
    "\n",
    "# Net Present Value of electrolyser\n",
    "discount_rate = 0.035\n",
    "operating_hours = np.count_nonzero(H_produced)                 # Number of operating hours in a year\n",
    "years_lifetime = lifetime/operating_hours                      # Lifetime in number of years\n",
    "years_lifetime_rounded = np.round(years_lifetime)              # round off number of years\n",
    "years_lifetime_rounded = int(years_lifetime_rounded)\n",
    "print('Total operating lifetime(in years) is')\n",
    "print(years_lifetime_rounded)\n",
    "annual_cost = electrolyser.install_cost/years_lifetime_rounded\n",
    "\n",
    "cost = np.zeros((years_lifetime_rounded,1))   \n",
    "for j in range(years_lifetime_rounded):\n",
    "    cost[j] = annual_cost *((1-discount_rate)**j)\n",
    "    \n",
    "npv = sum(cost)\n",
    "print('Electrolyser cost is ')\n",
    "print(electrolyser.install_cost)\n",
    "print('Net Present Value of Electrolyser Cost is ')\n",
    "print(npv)\n",
    "\n",
    "solarfarm_cost = pvChosen.Power * 450000                   # Cost of solar farm in GBP \n",
    "\n",
    "print('Cost of Solar Farm Installation')\n",
    "print(solarfarm_cost)\n",
    "\n",
    "solarfarm_OM = 6700*SolarFarmSize\n",
    "print('Cost of Solar Farm O & M')\n",
    "print(solarfarm_OM)\n",
    "batt_cost = batt.capacity/3600 * 89.19                       # Cost of battery in GBP\n",
    "\n",
    "print('Cost of Battery')\n",
    "print(batt_cost)"
   ]
  },
  {
   "cell_type": "code",
   "execution_count": 11,
   "metadata": {},
   "outputs": [
    {
     "name": "stdout",
     "output_type": "stream",
     "text": [
      "Total hydrogen produced (in kg) is\n",
      "[3044141.24598244]\n"
     ]
    }
   ],
   "source": [
    "print('Total hydrogen produced (in kg) is')\n",
    "print(total_annual_hydrogen)"
   ]
  },
  {
   "cell_type": "code",
   "execution_count": 12,
   "metadata": {},
   "outputs": [
    {
     "name": "stdout",
     "output_type": "stream",
     "text": [
      "[25669028.40139766]\n"
     ]
    }
   ],
   "source": [
    "Total_Cost = batt_cost + solarfarm_cost + electrolyser.install_cost + Total_water_price + Total_elec_cost\n",
    "print(Total_Cost)"
   ]
  },
  {
   "cell_type": "code",
   "execution_count": 13,
   "metadata": {},
   "outputs": [],
   "source": [
    "#pd.DataFrame(daily_H2_pd).to_csv(r'C:/Users/tangl/OneDrive/Engineering Course/Year 3/3YP/data.csv',index = False)"
   ]
  },
  {
   "cell_type": "code",
   "execution_count": 14,
   "metadata": {},
   "outputs": [
    {
     "name": "stdout",
     "output_type": "stream",
     "text": [
      "[2482.01449589]\n"
     ]
    }
   ],
   "source": [
    "print(sum(grid_demand))"
   ]
  },
  {
   "cell_type": "code",
   "execution_count": null,
   "metadata": {},
   "outputs": [],
   "source": []
  }
 ],
 "metadata": {
  "kernelspec": {
   "display_name": "Python 3",
   "language": "python",
   "name": "python3"
  },
  "language_info": {
   "codemirror_mode": {
    "name": "ipython",
    "version": 3
   },
   "file_extension": ".py",
   "mimetype": "text/x-python",
   "name": "python",
   "nbconvert_exporter": "python",
   "pygments_lexer": "ipython3",
   "version": "3.8.3"
  }
 },
 "nbformat": 4,
 "nbformat_minor": 4
}
